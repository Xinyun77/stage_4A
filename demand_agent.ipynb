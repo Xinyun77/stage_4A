{
 "cells": [
  {
   "cell_type": "markdown",
   "metadata": {},
   "source": [
    "## Working file : agent_plans_with_ASV"
   ]
  },
  {
   "cell_type": "code",
   "execution_count": 169,
   "metadata": {},
   "outputs": [],
   "source": [
    "# coding: utf-8\n",
    "import pandas as pd\n",
    "import matplotlib.pyplot as plt\n",
    "import numpy as np\n",
    "from datetime import datetime\n",
    "from matplotlib import dates as mdates\n",
    "#from matrix import Matrix\n",
    "import math \n",
    "import os\n",
    "import plotly.express as px \n",
    "from pylab import savefig\n",
    "from lxml import etree\n",
    "import utm\n",
    "import geopy\n",
    "from matplotlib.pyplot import hist\n",
    "import geopandas as gpd\n",
    "import cbsodata\n",
    "import folium\n",
    "from folium import plugins\n",
    "from folium.plugins import HeatMap\n",
    "import plotly.graph_objects as go\n",
    "\n",
    "\n",
    "#import geoplot\n",
    "#import geoplot.crs as gcrs"
   ]
  },
  {
   "cell_type": "code",
   "execution_count": 261,
   "metadata": {},
   "outputs": [
    {
     "data": {
      "text/plain": [
       "'/Users/xinyun/Documents/Stage4A'"
      ]
     },
     "execution_count": 261,
     "metadata": {},
     "output_type": "execute_result"
    }
   ],
   "source": [
    "os.getcwd()"
   ]
  },
  {
   "cell_type": "markdown",
   "metadata": {},
   "source": [
    "## Functions allows to browse the file and create a dataframe "
   ]
  },
  {
   "cell_type": "code",
   "execution_count": 290,
   "metadata": {},
   "outputs": [],
   "source": [
    "# function takes file path as input\n",
    "# returns a dataframe contains all demand in ascending order of departure time and all listes of origin and \n",
    "# destination coordinates\n",
    "def build_all_demand_df(dir):\n",
    "    # find xml file name\n",
    "    fname = dir\n",
    "    # read xml file\n",
    "    tree = etree.parse(fname)\n",
    "    root = tree.getroot()  \n",
    "    # Initialization \n",
    "    demand, id_nb, O_x, O_y, D_x, D_y, dep_time, mobility_service = ([] for i in range(8))\n",
    "\n",
    "    # Iterate through the root node to get the child node \n",
    "    for user in tree.xpath(\"/population/person\") :\n",
    "        ID = user.get('id')\n",
    "        plan = user.xpath('plan')\n",
    "        a = plan[0].xpath(\"activity\")   # [0] is necessary \n",
    "        leg = plan[0].xpath(\"leg\")\n",
    "        x1 = []\n",
    "        y1 = []\n",
    "        x2 = []\n",
    "        y2 = []\n",
    "        time = []\n",
    "        service = []\n",
    "        for b in a :      # Iterate through activity in plan\n",
    "            x1.append(b.get(\"x\"))\n",
    "            y1.append(b.get('y'))\n",
    "            x2.append(b.get(\"x\"))\n",
    "            y2.append(b.get('y'))\n",
    "        for c in leg :   # Iterate through leg in plan\n",
    "            if c.get('mode') == 'car':   # travel mode = car \n",
    "                service.append('PersonalVehicle')\n",
    "            else:\n",
    "                service.append(c.get('mode'))  # get other travel modes\n",
    "            time.append(c.get('dep_time')) # append departure time\n",
    "\n",
    "        x1.pop()\n",
    "        y1.pop()\n",
    "        x2.pop(0)\n",
    "        y2.pop(0)\n",
    "        id_ = [ID]*len(x1)\n",
    "        id_nb+=id_ # id\n",
    "        O_x+=x1   # x-coordinate of the origin\n",
    "        O_y+=y1   # x-coordinate of the destination\n",
    "        D_x+=x2   # y-coordinate of the origin\n",
    "        D_y+=y2   # y-coordinate of the destination\n",
    "        dep_time+=time  # departure time\n",
    "        mobility_service+=service  # mobility service\n",
    "    # Create a list of combinasion of 4 columns\n",
    "    demand = list(zip(id_nb,dep_time,O_x,O_y,D_x,D_y,mobility_service))   \n",
    "    #Create dataframe from listes\n",
    "    demandDf = pd.DataFrame(demand, columns = ['ID', 'DEPARTURE', 'O_x', 'O_y', 'D_x', 'D_y', 'SERVICE'])\n",
    "    # Concatenate and rename coordinates columns  \n",
    "    demandDf['ORIGIN'] = demandDf.apply(lambda x : '%s %s' % (x['O_x'], x['O_y']), axis=1)\n",
    "    demandDf['DESTINATION'] = demandDf.apply(lambda x : '%s %s' % (x['D_x'], x['D_y']), axis=1)\n",
    "    # Delet the four origins coordinates columns\n",
    "    demandDf = demandDf.drop(labels=['O_x', 'O_y', 'D_x', 'D_y'], axis=1)\n",
    "    #Mobility = demandDf['SERVICE'].tolist()\n",
    "    #indices = [i for i, x in enumerate(Mobility) if x == 'PersonalVehicle']\n",
    "    #demandDf = demandDf.loc[indices]\n",
    "    demandDf = demandDf[['ID', 'DEPARTURE', 'ORIGIN', 'DESTINATION', 'SERVICE']]\n",
    "     # switch to incremental order by dep_time\n",
    "    demandDf = demandDf.sort_values(by = 'DEPARTURE') \n",
    "    demandDf = demandDf.reset_index(drop=True)\n",
    "    return demandDf, O_x, O_y, D_x, D_y"
   ]
  },
  {
   "cell_type": "code",
   "execution_count": 291,
   "metadata": {},
   "outputs": [],
   "source": [
    "# function takes file path as input\n",
    "# returns a dataframe contains only car users in ascending order of departure time\n",
    "def build_car_users_only_df(dir):\n",
    "    allUserDf, O_x, O_y, D_x, D_y  = build_all_demand_df(dir)\n",
    "    mobility = allUserDf['SERVICE'].tolist()\n",
    "    indices = [i for i, x in enumerate(mobility) if x == 'PersonalVehicle']\n",
    "    df = allUserDf.loc[indices]\n",
    "    df = df.reset_index(drop=True)\n",
    "    return df"
   ]
  },
  {
   "cell_type": "markdown",
   "metadata": {},
   "source": [
    "## Dataframe of all users in ascending order of departure time"
   ]
  },
  {
   "cell_type": "code",
   "execution_count": 292,
   "metadata": {},
   "outputs": [
    {
     "data": {
      "text/html": [
       "<div>\n",
       "<style scoped>\n",
       "    .dataframe tbody tr th:only-of-type {\n",
       "        vertical-align: middle;\n",
       "    }\n",
       "\n",
       "    .dataframe tbody tr th {\n",
       "        vertical-align: top;\n",
       "    }\n",
       "\n",
       "    .dataframe thead th {\n",
       "        text-align: right;\n",
       "    }\n",
       "</style>\n",
       "<table border=\"1\" class=\"dataframe\">\n",
       "  <thead>\n",
       "    <tr style=\"text-align: right;\">\n",
       "      <th></th>\n",
       "      <th>ID</th>\n",
       "      <th>DEPARTURE</th>\n",
       "      <th>ORIGIN</th>\n",
       "      <th>DESTINATION</th>\n",
       "      <th>SERVICE</th>\n",
       "    </tr>\n",
       "  </thead>\n",
       "  <tbody>\n",
       "    <tr>\n",
       "      <th>0</th>\n",
       "      <td>1092778</td>\n",
       "      <td>02:25:28</td>\n",
       "      <td>630209.2183736941 5802560.252655378</td>\n",
       "      <td>628139.6507828436 5805236.524603739</td>\n",
       "      <td>taxi</td>\n",
       "    </tr>\n",
       "    <tr>\n",
       "      <th>1</th>\n",
       "      <td>2047996</td>\n",
       "      <td>02:34:47</td>\n",
       "      <td>706691.7915121207 5710429.208945983</td>\n",
       "      <td>629439.1110360922 5801802.608622144</td>\n",
       "      <td>pt</td>\n",
       "    </tr>\n",
       "    <tr>\n",
       "      <th>2</th>\n",
       "      <td>844163</td>\n",
       "      <td>02:38:18</td>\n",
       "      <td>645624.9258951969 5844635.201187612</td>\n",
       "      <td>645612.8354277287 5844389.713957095</td>\n",
       "      <td>bike</td>\n",
       "    </tr>\n",
       "    <tr>\n",
       "      <th>3</th>\n",
       "      <td>1055879</td>\n",
       "      <td>02:38:34</td>\n",
       "      <td>625213.2565636548 5801283.454577501</td>\n",
       "      <td>625010.44236077 5802946.676243623</td>\n",
       "      <td>walk</td>\n",
       "    </tr>\n",
       "    <tr>\n",
       "      <th>4</th>\n",
       "      <td>998725</td>\n",
       "      <td>02:39:31</td>\n",
       "      <td>638423.1537658195 5814097.23923733</td>\n",
       "      <td>651710.2043398552 5840611.335265805</td>\n",
       "      <td>bike</td>\n",
       "    </tr>\n",
       "    <tr>\n",
       "      <th>...</th>\n",
       "      <td>...</td>\n",
       "      <td>...</td>\n",
       "      <td>...</td>\n",
       "      <td>...</td>\n",
       "      <td>...</td>\n",
       "    </tr>\n",
       "    <tr>\n",
       "      <th>601857</th>\n",
       "      <td>941384</td>\n",
       "      <td>24:29:46</td>\n",
       "      <td>610323.4448327582 5804523.463456508</td>\n",
       "      <td>610139.8036228275 5804479.445455948</td>\n",
       "      <td>bike</td>\n",
       "    </tr>\n",
       "    <tr>\n",
       "      <th>601858</th>\n",
       "      <td>1074915</td>\n",
       "      <td>24:29:51</td>\n",
       "      <td>628716.9511927095 5801493.025342571</td>\n",
       "      <td>628945.7914998502 5801978.873328291</td>\n",
       "      <td>bike</td>\n",
       "    </tr>\n",
       "    <tr>\n",
       "      <th>601859</th>\n",
       "      <td>1038204</td>\n",
       "      <td>24:29:58</td>\n",
       "      <td>685267.4815879678 5790409.823144514</td>\n",
       "      <td>627012.8028807903 5803367.105509135</td>\n",
       "      <td>pt</td>\n",
       "    </tr>\n",
       "    <tr>\n",
       "      <th>601860</th>\n",
       "      <td>1127071</td>\n",
       "      <td>24:49:54</td>\n",
       "      <td>627439.3502445676 5800106.909626863</td>\n",
       "      <td>627428.2057525564 5796576.659790612</td>\n",
       "      <td>bike</td>\n",
       "    </tr>\n",
       "    <tr>\n",
       "      <th>601861</th>\n",
       "      <td>910088</td>\n",
       "      <td>24:54:07</td>\n",
       "      <td>625389.7815265602 5805248.141699309</td>\n",
       "      <td>612653.8062071091 5815844.018566419</td>\n",
       "      <td>pt</td>\n",
       "    </tr>\n",
       "  </tbody>\n",
       "</table>\n",
       "<p>601862 rows × 5 columns</p>\n",
       "</div>"
      ],
      "text/plain": [
       "             ID DEPARTURE                               ORIGIN  \\\n",
       "0       1092778  02:25:28  630209.2183736941 5802560.252655378   \n",
       "1       2047996  02:34:47  706691.7915121207 5710429.208945983   \n",
       "2        844163  02:38:18  645624.9258951969 5844635.201187612   \n",
       "3       1055879  02:38:34  625213.2565636548 5801283.454577501   \n",
       "4        998725  02:39:31   638423.1537658195 5814097.23923733   \n",
       "...         ...       ...                                  ...   \n",
       "601857   941384  24:29:46  610323.4448327582 5804523.463456508   \n",
       "601858  1074915  24:29:51  628716.9511927095 5801493.025342571   \n",
       "601859  1038204  24:29:58  685267.4815879678 5790409.823144514   \n",
       "601860  1127071  24:49:54  627439.3502445676 5800106.909626863   \n",
       "601861   910088  24:54:07  625389.7815265602 5805248.141699309   \n",
       "\n",
       "                                DESTINATION SERVICE  \n",
       "0       628139.6507828436 5805236.524603739    taxi  \n",
       "1       629439.1110360922 5801802.608622144      pt  \n",
       "2       645612.8354277287 5844389.713957095    bike  \n",
       "3         625010.44236077 5802946.676243623    walk  \n",
       "4       651710.2043398552 5840611.335265805    bike  \n",
       "...                                     ...     ...  \n",
       "601857  610139.8036228275 5804479.445455948    bike  \n",
       "601858  628945.7914998502 5801978.873328291    bike  \n",
       "601859  627012.8028807903 5803367.105509135      pt  \n",
       "601860  627428.2057525564 5796576.659790612    bike  \n",
       "601861  612653.8062071091 5815844.018566419      pt  \n",
       "\n",
       "[601862 rows x 5 columns]"
      ]
     },
     "execution_count": 292,
     "metadata": {},
     "output_type": "execute_result"
    }
   ],
   "source": [
    "dir = 'data/agent_plans_with_SAV.xml' # path of file\n",
    "allUserDf, O_x, O_y, D_x, D_y = build_all_demand_df(dir) \n",
    "allUserDf"
   ]
  },
  {
   "cell_type": "markdown",
   "metadata": {},
   "source": [
    "## Dataframes for car users only, in ascending order of departure time"
   ]
  },
  {
   "cell_type": "code",
   "execution_count": 258,
   "metadata": {},
   "outputs": [
    {
     "data": {
      "text/html": [
       "<div>\n",
       "<style scoped>\n",
       "    .dataframe tbody tr th:only-of-type {\n",
       "        vertical-align: middle;\n",
       "    }\n",
       "\n",
       "    .dataframe tbody tr th {\n",
       "        vertical-align: top;\n",
       "    }\n",
       "\n",
       "    .dataframe thead th {\n",
       "        text-align: right;\n",
       "    }\n",
       "</style>\n",
       "<table border=\"1\" class=\"dataframe\">\n",
       "  <thead>\n",
       "    <tr style=\"text-align: right;\">\n",
       "      <th></th>\n",
       "      <th>ID</th>\n",
       "      <th>DEPARTURE</th>\n",
       "      <th>ORIGIN</th>\n",
       "      <th>DESTINATION</th>\n",
       "      <th>SERVICE</th>\n",
       "    </tr>\n",
       "  </thead>\n",
       "  <tbody>\n",
       "    <tr>\n",
       "      <th>0</th>\n",
       "      <td>910210</td>\n",
       "      <td>02:52:39</td>\n",
       "      <td>612379.0489281532 5816350.89446665</td>\n",
       "      <td>611691.4419278009 5816954.11609318</td>\n",
       "      <td>PersonalVehicle</td>\n",
       "    </tr>\n",
       "    <tr>\n",
       "      <th>1</th>\n",
       "      <td>999663</td>\n",
       "      <td>02:55:23</td>\n",
       "      <td>630538.3627080203 5810738.8288230095</td>\n",
       "      <td>737546.9351569484 5901883.143939297</td>\n",
       "      <td>PersonalVehicle</td>\n",
       "    </tr>\n",
       "    <tr>\n",
       "      <th>2</th>\n",
       "      <td>1114579</td>\n",
       "      <td>02:58:52</td>\n",
       "      <td>678560.9934943746 5757110.199189669</td>\n",
       "      <td>678560.9934943746 5757110.199189669</td>\n",
       "      <td>PersonalVehicle</td>\n",
       "    </tr>\n",
       "    <tr>\n",
       "      <th>3</th>\n",
       "      <td>1063629</td>\n",
       "      <td>03:09:10</td>\n",
       "      <td>627971.7123910612 5804577.181003605</td>\n",
       "      <td>627971.7123910612 5804577.181003605</td>\n",
       "      <td>PersonalVehicle</td>\n",
       "    </tr>\n",
       "    <tr>\n",
       "      <th>4</th>\n",
       "      <td>1128767</td>\n",
       "      <td>03:10:27</td>\n",
       "      <td>624865.4875424504 5793371.364701685</td>\n",
       "      <td>624885.2201303691 5794167.11471286</td>\n",
       "      <td>PersonalVehicle</td>\n",
       "    </tr>\n",
       "    <tr>\n",
       "      <th>...</th>\n",
       "      <td>...</td>\n",
       "      <td>...</td>\n",
       "      <td>...</td>\n",
       "      <td>...</td>\n",
       "      <td>...</td>\n",
       "    </tr>\n",
       "    <tr>\n",
       "      <th>157548</th>\n",
       "      <td>392613</td>\n",
       "      <td>24:28:27</td>\n",
       "      <td>649516.4371622159 5805808.736768906</td>\n",
       "      <td>649450.364888446 5805823.603616291</td>\n",
       "      <td>PersonalVehicle</td>\n",
       "    </tr>\n",
       "    <tr>\n",
       "      <th>157549</th>\n",
       "      <td>1042032</td>\n",
       "      <td>24:28:39</td>\n",
       "      <td>622573.6391230685 5816408.36995231</td>\n",
       "      <td>626527.3551048918 5804835.89886126</td>\n",
       "      <td>PersonalVehicle</td>\n",
       "    </tr>\n",
       "    <tr>\n",
       "      <th>157550</th>\n",
       "      <td>1107580</td>\n",
       "      <td>24:28:58</td>\n",
       "      <td>627455.5557569496 5803382.911728106</td>\n",
       "      <td>632463.8733670102 5803246.066693705</td>\n",
       "      <td>PersonalVehicle</td>\n",
       "    </tr>\n",
       "    <tr>\n",
       "      <th>157551</th>\n",
       "      <td>904619</td>\n",
       "      <td>24:29:05</td>\n",
       "      <td>618188.6065932165 5774328.079332883</td>\n",
       "      <td>628031.6209464825 5829533.568219972</td>\n",
       "      <td>PersonalVehicle</td>\n",
       "    </tr>\n",
       "    <tr>\n",
       "      <th>157552</th>\n",
       "      <td>953060</td>\n",
       "      <td>24:29:24</td>\n",
       "      <td>613370.265636957 5804261.70257782</td>\n",
       "      <td>613285.1859773733 5804499.958819525</td>\n",
       "      <td>PersonalVehicle</td>\n",
       "    </tr>\n",
       "  </tbody>\n",
       "</table>\n",
       "<p>157553 rows × 5 columns</p>\n",
       "</div>"
      ],
      "text/plain": [
       "             ID DEPARTURE                                ORIGIN  \\\n",
       "0        910210  02:52:39    612379.0489281532 5816350.89446665   \n",
       "1        999663  02:55:23  630538.3627080203 5810738.8288230095   \n",
       "2       1114579  02:58:52   678560.9934943746 5757110.199189669   \n",
       "3       1063629  03:09:10   627971.7123910612 5804577.181003605   \n",
       "4       1128767  03:10:27   624865.4875424504 5793371.364701685   \n",
       "...         ...       ...                                   ...   \n",
       "157548   392613  24:28:27   649516.4371622159 5805808.736768906   \n",
       "157549  1042032  24:28:39    622573.6391230685 5816408.36995231   \n",
       "157550  1107580  24:28:58   627455.5557569496 5803382.911728106   \n",
       "157551   904619  24:29:05   618188.6065932165 5774328.079332883   \n",
       "157552   953060  24:29:24     613370.265636957 5804261.70257782   \n",
       "\n",
       "                                DESTINATION          SERVICE  \n",
       "0        611691.4419278009 5816954.11609318  PersonalVehicle  \n",
       "1       737546.9351569484 5901883.143939297  PersonalVehicle  \n",
       "2       678560.9934943746 5757110.199189669  PersonalVehicle  \n",
       "3       627971.7123910612 5804577.181003605  PersonalVehicle  \n",
       "4        624885.2201303691 5794167.11471286  PersonalVehicle  \n",
       "...                                     ...              ...  \n",
       "157548   649450.364888446 5805823.603616291  PersonalVehicle  \n",
       "157549   626527.3551048918 5804835.89886126  PersonalVehicle  \n",
       "157550  632463.8733670102 5803246.066693705  PersonalVehicle  \n",
       "157551  628031.6209464825 5829533.568219972  PersonalVehicle  \n",
       "157552  613285.1859773733 5804499.958819525  PersonalVehicle  \n",
       "\n",
       "[157553 rows x 5 columns]"
      ]
     },
     "execution_count": 258,
     "metadata": {},
     "output_type": "execute_result"
    }
   ],
   "source": [
    "dir = 'data/agent_plans_with_SAV.xml' # path of file\n",
    "personalVehicleDf = build_car_users_only_df(dir) \n",
    "personalVehicleDf   # P.S : I used only car users for the simulation "
   ]
  },
  {
   "cell_type": "markdown",
   "metadata": {},
   "source": [
    "## Generate a test csv for a time period given"
   ]
  },
  {
   "cell_type": "code",
   "execution_count": 251,
   "metadata": {},
   "outputs": [],
   "source": [
    "# function takes a tart time and a end time as input\n",
    "# returns a dataframe of demand during this time period : [start_time ,end_time[ \n",
    "def test_df(start_time, end_time, demand_df):\n",
    "    departure = demand_df[\"DEPARTURE\"].tolist()\n",
    "    id = demand_df[\"ID\"].tolist()\n",
    "    o = demand_df[\"ORIGIN\"].tolist()\n",
    "    d = demand_df[\"DESTINATION\"].tolist()\n",
    "    s = demand_df[\"SERVICE\"].tolist()\n",
    "\n",
    "    \n",
    "    for i in range(len(departure)-1) :\n",
    "        down = departure[i]\n",
    "        up = departure[i+1]\n",
    "        if ((int(down[:2]) == start_time-1) & (int(up[:2]) == start_time)) :\n",
    "            a = i + 1\n",
    "        elif ((int(down[:2]) == end_time - 1) & (int(up[:2]) == end_time)) :\n",
    "\n",
    "            b = i + 1\n",
    "    departure = departure[a:b]\n",
    "    id = id[a:b]\n",
    "    o = o[a:b]\n",
    "    d = d[a:b]\n",
    "    s = s[a:b]\n",
    "    \n",
    "    demand = list(zip(id,departure,o,d,s))\n",
    "    testDf = pd.DataFrame(demand, columns = ['ID', 'DEPARTURE', 'ORIGIN', 'DESTINATION', 'SERVICE'])\n",
    "    return testDf"
   ]
  },
  {
   "cell_type": "code",
   "execution_count": 255,
   "metadata": {},
   "outputs": [
    {
     "data": {
      "text/html": [
       "<div>\n",
       "<style scoped>\n",
       "    .dataframe tbody tr th:only-of-type {\n",
       "        vertical-align: middle;\n",
       "    }\n",
       "\n",
       "    .dataframe tbody tr th {\n",
       "        vertical-align: top;\n",
       "    }\n",
       "\n",
       "    .dataframe thead th {\n",
       "        text-align: right;\n",
       "    }\n",
       "</style>\n",
       "<table border=\"1\" class=\"dataframe\">\n",
       "  <thead>\n",
       "    <tr style=\"text-align: right;\">\n",
       "      <th></th>\n",
       "      <th>ID</th>\n",
       "      <th>DEPARTURE</th>\n",
       "      <th>ORIGIN</th>\n",
       "      <th>DESTINATION</th>\n",
       "      <th>SERVICE</th>\n",
       "    </tr>\n",
       "  </thead>\n",
       "  <tbody>\n",
       "    <tr>\n",
       "      <th>0</th>\n",
       "      <td>1111241</td>\n",
       "      <td>07:00:00</td>\n",
       "      <td>634035.7291712608 5798370.933920433</td>\n",
       "      <td>633013.7429947932 5797843.393080657</td>\n",
       "      <td>PersonalVehicle</td>\n",
       "    </tr>\n",
       "    <tr>\n",
       "      <th>1</th>\n",
       "      <td>1168071</td>\n",
       "      <td>07:00:00</td>\n",
       "      <td>646689.5975135324 5796305.536300822</td>\n",
       "      <td>625022.1658398311 5803258.391749226</td>\n",
       "      <td>PersonalVehicle</td>\n",
       "    </tr>\n",
       "    <tr>\n",
       "      <th>2</th>\n",
       "      <td>1163767</td>\n",
       "      <td>07:00:01</td>\n",
       "      <td>647946.4852670499 5793206.220630613</td>\n",
       "      <td>650698.8689544763 5804828.471933132</td>\n",
       "      <td>PersonalVehicle</td>\n",
       "    </tr>\n",
       "    <tr>\n",
       "      <th>3</th>\n",
       "      <td>1040303</td>\n",
       "      <td>07:00:02</td>\n",
       "      <td>626592.2832221197 5802782.201807101</td>\n",
       "      <td>627119.3937449739 5802857.838660972</td>\n",
       "      <td>PersonalVehicle</td>\n",
       "    </tr>\n",
       "    <tr>\n",
       "      <th>4</th>\n",
       "      <td>1135295</td>\n",
       "      <td>07:00:03</td>\n",
       "      <td>626373.3503814898 5795318.412810527</td>\n",
       "      <td>649225.0246550543 5787834.954252227</td>\n",
       "      <td>PersonalVehicle</td>\n",
       "    </tr>\n",
       "    <tr>\n",
       "      <th>...</th>\n",
       "      <td>...</td>\n",
       "      <td>...</td>\n",
       "      <td>...</td>\n",
       "      <td>...</td>\n",
       "      <td>...</td>\n",
       "    </tr>\n",
       "    <tr>\n",
       "      <th>18989</th>\n",
       "      <td>669847</td>\n",
       "      <td>08:59:59</td>\n",
       "      <td>671144.401814134 5756828.440589001</td>\n",
       "      <td>687346.7403420567 5742119.76719328</td>\n",
       "      <td>PersonalVehicle</td>\n",
       "    </tr>\n",
       "    <tr>\n",
       "      <th>18990</th>\n",
       "      <td>1084683</td>\n",
       "      <td>08:59:59</td>\n",
       "      <td>627694.0701901402 5801284.886931946</td>\n",
       "      <td>627651.4043159435 5801055.3357389495</td>\n",
       "      <td>PersonalVehicle</td>\n",
       "    </tr>\n",
       "    <tr>\n",
       "      <th>18991</th>\n",
       "      <td>1065005</td>\n",
       "      <td>08:59:59</td>\n",
       "      <td>627736.8477670127 5797076.775593162</td>\n",
       "      <td>627736.8477670127 5797076.775593162</td>\n",
       "      <td>PersonalVehicle</td>\n",
       "    </tr>\n",
       "    <tr>\n",
       "      <th>18992</th>\n",
       "      <td>382377</td>\n",
       "      <td>08:59:59</td>\n",
       "      <td>669269.0467706273 5816633.331821069</td>\n",
       "      <td>667309.4649672995 5819659.861915671</td>\n",
       "      <td>PersonalVehicle</td>\n",
       "    </tr>\n",
       "    <tr>\n",
       "      <th>18993</th>\n",
       "      <td>973567</td>\n",
       "      <td>08:59:59</td>\n",
       "      <td>622484.8367840601 5815526.01778025</td>\n",
       "      <td>622336.0324728701 5815165.884126046</td>\n",
       "      <td>PersonalVehicle</td>\n",
       "    </tr>\n",
       "  </tbody>\n",
       "</table>\n",
       "<p>18994 rows × 5 columns</p>\n",
       "</div>"
      ],
      "text/plain": [
       "            ID DEPARTURE                               ORIGIN  \\\n",
       "0      1111241  07:00:00  634035.7291712608 5798370.933920433   \n",
       "1      1168071  07:00:00  646689.5975135324 5796305.536300822   \n",
       "2      1163767  07:00:01  647946.4852670499 5793206.220630613   \n",
       "3      1040303  07:00:02  626592.2832221197 5802782.201807101   \n",
       "4      1135295  07:00:03  626373.3503814898 5795318.412810527   \n",
       "...        ...       ...                                  ...   \n",
       "18989   669847  08:59:59   671144.401814134 5756828.440589001   \n",
       "18990  1084683  08:59:59  627694.0701901402 5801284.886931946   \n",
       "18991  1065005  08:59:59  627736.8477670127 5797076.775593162   \n",
       "18992   382377  08:59:59  669269.0467706273 5816633.331821069   \n",
       "18993   973567  08:59:59   622484.8367840601 5815526.01778025   \n",
       "\n",
       "                                DESTINATION          SERVICE  \n",
       "0       633013.7429947932 5797843.393080657  PersonalVehicle  \n",
       "1       625022.1658398311 5803258.391749226  PersonalVehicle  \n",
       "2       650698.8689544763 5804828.471933132  PersonalVehicle  \n",
       "3       627119.3937449739 5802857.838660972  PersonalVehicle  \n",
       "4       649225.0246550543 5787834.954252227  PersonalVehicle  \n",
       "...                                     ...              ...  \n",
       "18989    687346.7403420567 5742119.76719328  PersonalVehicle  \n",
       "18990  627651.4043159435 5801055.3357389495  PersonalVehicle  \n",
       "18991   627736.8477670127 5797076.775593162  PersonalVehicle  \n",
       "18992   667309.4649672995 5819659.861915671  PersonalVehicle  \n",
       "18993   622336.0324728701 5815165.884126046  PersonalVehicle  \n",
       "\n",
       "[18994 rows x 5 columns]"
      ]
     },
     "execution_count": 255,
     "metadata": {},
     "output_type": "execute_result"
    }
   ],
   "source": [
    "# example of demand between 7h and 9h\n",
    "testDf = test_df(7, 9, personalVehicleDf)\n",
    "testDf"
   ]
  },
  {
   "cell_type": "code",
   "execution_count": 262,
   "metadata": {},
   "outputs": [],
   "source": [
    "# turn test dataframe to a csv file \n",
    "testDf.to_csv('demand/test_7h_9h.csv', sep = ';', index = False)"
   ]
  },
  {
   "cell_type": "markdown",
   "metadata": {},
   "source": [
    "## Occurrence of nb of trips  (for all demand)"
   ]
  },
  {
   "cell_type": "code",
   "execution_count": 269,
   "metadata": {},
   "outputs": [],
   "source": [
    "# function takes dataframe of demand as input\n",
    "# plot and save occurrence of nb of trips \n",
    "def plot_nb_of_trips_per_user(dataframe):\n",
    "    # Create a dataframe with ID and number of trips of each user\n",
    "    nbTrips = dataframe.groupby(by = 'ID').size().reset_index(name='NB_OF_TRIPS')\n",
    "    # occurrence of number of trips\n",
    "    occ = nbTrips.groupby(by = 'NB_OF_TRIPS').size().reset_index(name='OCCURRENCE')  \n",
    "    plt.figure(figsize=(10, 8))\n",
    "    plt.plot(occ.NB_OF_TRIPS, occ.OCCURRENCE, color='darkgreen',alpha = 0.7, linestyle='dashed', linewidth = 2, marker='o',\n",
    "    markerfacecolor='orange', markersize=8)\n",
    "    plt.title('Occurrence of number of trips', fontsize=20)\n",
    "    plt.xlabel('Number of trips', fontsize=18)\n",
    "    plt.ylabel('Occurrence', fontsize=18)\n",
    "    plt.savefig('demand/figure/occurrence.pdf')\n",
    "    plt.show()"
   ]
  },
  {
   "cell_type": "code",
   "execution_count": 268,
   "metadata": {},
   "outputs": [
    {
     "data": {
      "image/png": "[encoded data removed]",
      "text/plain": [
       "<Figure size 720x576 with 1 Axes>"
      ]
     },
     "metadata": {
      "needs_background": "light"
     },
     "output_type": "display_data"
    }
   ],
   "source": [
    "# number of trips per user\n",
    "plot_nb_of_trips_per_user(allUserDf)"
   ]
  },
  {
   "cell_type": "markdown",
   "metadata": {},
   "source": [
    "### Calculate mean, max and min of trips"
   ]
  },
  {
   "cell_type": "code",
   "execution_count": 270,
   "metadata": {},
   "outputs": [
    {
     "name": "stdout",
     "output_type": "stream",
     "text": [
      "La moyenne de nombre de trajet par usager est : 3.9209506250855055 \n",
      " Le maximum nombre de trajet fait par les usagers est : 25 \n",
      " Le minimum nombre de trajet fait par les usagers est : 1\n"
     ]
    }
   ],
   "source": [
    "# Calculate mean, max and min of trips\n",
    "nbTrips = allUserDf.groupby(by = 'ID').size().reset_index(name='NB_OF_TRIPS')\n",
    "mean = nbTrips.NB_OF_TRIPS.mean()\n",
    "maximum = nbTrips.NB_OF_TRIPS.max()\n",
    "mini  = nbTrips.NB_OF_TRIPS.min()\n",
    "print('La moyenne de nombre de trajet par usager est :',mean,'\\n', 'Le maximum nombre de trajet fait par les usagers est :', maximum,'\\n','Le minimum nombre de trajet fait par les usagers est :', mini)"
   ]
  },
  {
   "cell_type": "markdown",
   "metadata": {},
   "source": [
    "## Number of user per hour"
   ]
  },
  {
   "cell_type": "code",
   "execution_count": 277,
   "metadata": {},
   "outputs": [],
   "source": [
    "def plot_nb_of_user_per_hour(dataframe):\n",
    "    time = dataframe.DEPARTURE.values.tolist()\n",
    "    # Convert departure time to hour \n",
    "    for i in range(len(time)) :\n",
    "        time[i] = float(time[i][0:2]) + float(time[i][3:5]) / 60\n",
    "    plt.figure(figsize=(10,8))\n",
    "    plt.hist(time,range = (0,24), bins = 20, color = 'blue',alpha = 0.5,edgecolor='orange')\n",
    "    plt.xlabel('Hour', fontsize=18)\n",
    "    plt.ylabel('Number of user', fontsize=18)\n",
    "    plt.title('Number of user per hour', fontsize=20)\n",
    "    plt.savefig('demand/figure/nb_user_per_hour.pdf')\n",
    "    plt.show()"
   ]
  },
  {
   "cell_type": "code",
   "execution_count": 278,
   "metadata": {},
   "outputs": [
    {
     "data": {
      "image/png": "[encoded data removed]",
      "text/plain": [
       "<Figure size 720x576 with 1 Axes>"
      ]
     },
     "metadata": {
      "needs_background": "light"
     },
     "output_type": "display_data"
    }
   ],
   "source": [
    "# number of user per hour for all demand\n",
    "plot_nb_of_user_per_hour(allUserDf)"
   ]
  },
  {
   "cell_type": "code",
   "execution_count": 274,
   "metadata": {},
   "outputs": [
    {
     "data": {
      "image/png": "[encoded data removed]",
      "text/plain": [
       "<Figure size 720x576 with 1 Axes>"
      ]
     },
     "metadata": {
      "needs_background": "light"
     },
     "output_type": "display_data"
    }
   ],
   "source": [
    "# number of user per hour for only car users\n",
    "plot_nb_of_user_per_hour(personalVehicleDf)"
   ]
  },
  {
   "cell_type": "markdown",
   "metadata": {},
   "source": [
    "## Percentage of worker and no-worker"
   ]
  },
  {
   "cell_type": "code",
   "execution_count": 275,
   "metadata": {},
   "outputs": [],
   "source": [
    "# function takes as input the path of xml file\n",
    "# plot and save figures of percentage \n",
    "def plot_percentage_work_or_not(dir):\n",
    "    fname = dir\n",
    "    # read xml file\n",
    "    tree = etree.parse(fname)\n",
    "    root = tree.getroot()  \n",
    "    person = 0\n",
    "    noworker = 0\n",
    "    worker = 0\n",
    "    for user in tree.xpath(\"/population/person\") :\n",
    "        person+=1\n",
    "        attributes = user.xpath('attributes')\n",
    "        # get users' status\n",
    "        status = attributes[0][2].text\n",
    "        if status == 'NoWorker' :   \n",
    "            noworker+=1\n",
    "        elif status == 'Worker' :\n",
    "            worker+=1\n",
    "    perc_noworker = round((noworker / person) * 100)\n",
    "    perc_worker = round((worker / person) * 100)\n",
    "    status = ['Worker', 'Noworker']\n",
    "    data = [worker, noworker]\n",
    "    explode = (0,0.1)\n",
    "    # Creating plot\n",
    "    fig1, ax1 = plt.subplots(figsize =(10, 7))\n",
    "    ax1.pie(data, explode=explode, labels=status, autopct='%1.1f%%', shadow=True, startangle=90)\n",
    "    ax1.axis('equal')  # Equal aspect ratio ensures that pie is drawn as a circle.\n",
    "    ax1.legend(status, title =\"status\", loc =\"center right\")\n",
    "    ax1.set_title(\"Percentage of worker and no-worker\")\n",
    "    plt.savefig('demand/figure/Percentage_status.pdf')\n",
    "    # show plot\n",
    "    plt.show()"
   ]
  },
  {
   "cell_type": "code",
   "execution_count": 276,
   "metadata": {},
   "outputs": [
    {
     "data": {
      "image/png": "[encoded data removed]",
      "text/plain": [
       "<Figure size 720x504 with 1 Axes>"
      ]
     },
     "metadata": {},
     "output_type": "display_data"
    }
   ],
   "source": [
    "dir = 'data/agent_plans_with_SAV.xml'\n",
    "plot_percentage_work_or_not('data/agent_plans_with_SAV.xml')"
   ]
  },
  {
   "cell_type": "markdown",
   "metadata": {},
   "source": [
    "## Occurrence of number for trips for workers"
   ]
  },
  {
   "cell_type": "code",
   "execution_count": 285,
   "metadata": {},
   "outputs": [],
   "source": [
    "# function takes as input path of xml file\n",
    "# plot and save occurrence of nb of trips for workers\n",
    "def plot_nb_of_trips_workers(dir) :\n",
    "    fname = dir\n",
    "    # read xml file\n",
    "    tree = etree.parse(fname)\n",
    "    root = tree.getroot()  \n",
    "    \n",
    "    worker, id_nb, O_x, O_y, D_x, D_y, dep_time, mobility_service = ([] for i in range(8))\n",
    "    # Iterate through the root node to get the child node \n",
    "    for user in tree.xpath(\"/population/person\") :\n",
    "        attributes = user.xpath('attributes')\n",
    "        status = attributes[0][2].text\n",
    "        if status == 'Worker' :\n",
    "            ID = user.get('id')\n",
    "            plan = user.xpath('plan')\n",
    "            a = plan[0].xpath(\"activity\")   # [0] is necessary \n",
    "            leg = plan[0].xpath(\"leg\")\n",
    "            x1 = []\n",
    "            y1 = []\n",
    "            x2 = []\n",
    "            y2 = []\n",
    "            time = []\n",
    "            service = []\n",
    "            for b in a :      # Iterate through activity in plan\n",
    "                x1.append(b.get(\"x\"))\n",
    "                y1.append(b.get('y'))\n",
    "                x2.append(b.get(\"x\"))\n",
    "                y2.append(b.get('y'))\n",
    "            for c in leg :   # Iterate through leg in plan\n",
    "                if c.get('mode') == 'car':\n",
    "                    service.append('PersonalVehicle')\n",
    "                else:\n",
    "                    service.append('Other')\n",
    "                    time.append(c.get('dep_time'))\n",
    "\n",
    "            x1.pop()\n",
    "            y1.pop()\n",
    "            x2.pop(0)\n",
    "            y2.pop(0)\n",
    "            id_ = [ID]*len(x1)\n",
    "            id_nb+=id_\n",
    "            O_x+=x1\n",
    "            O_y+=y1\n",
    "            D_x+=x2\n",
    "            D_y+=y2\n",
    "            dep_time+=time\n",
    "            mobility_service+=service\n",
    "\n",
    "    worker = list(zip(id_nb,dep_time,O_x,O_y,D_x,D_y,mobility_service))    # Create a list of combinasion of 4 columns\n",
    "    # Create dataframe from listes\n",
    "    workerDf = pd.DataFrame(worker, columns = ['ID', 'DEPARTURE', 'O_x', 'O_y', 'D_x', 'D_y', 'SERVICE']) \n",
    "    workerDf['ORIGIN'] = workerDf.apply(lambda x : '%s %s' % (x['O_x'], x['O_y']), axis=1)\n",
    "    workerDf['DESTINATION'] = workerDf.apply(lambda x : '%s %s' % (x['D_x'], x['D_y']), axis=1)\n",
    "    # Delet the four origins coordinates columns\n",
    "    workerDf = workerDf.drop(labels=['O_x', 'O_y', 'D_x', 'D_y'], axis=1)\n",
    "    \n",
    "    # commented part for car users only\n",
    "    \"\"\"\n",
    "    Mobility = workerDf['SERVICE'].tolist()\n",
    "    indices = [i for i, x in enumerate(Mobility) if x == 'PersonalVehicle']\n",
    "    workerDf = workerDf.loc[indices]\n",
    "    \"\"\"\n",
    "    workerDf = workerDf[['ID', 'DEPARTURE', 'ORIGIN', 'DESTINATION', 'SERVICE']]\n",
    "    workerDf = workerDf.reset_index(drop=True)\n",
    "    nbTrips_worker = workerDf.groupby(by = 'ID').size().reset_index(name='NB_OF_TRIPS')  \n",
    "    occ_worker = nbTrips_worker.groupby(by = 'NB_OF_TRIPS').size().reset_index(name='OCCURRENCE') \n",
    "    plt.figure(figsize=(10, 8))\n",
    "    plt.plot(occ_worker.NB_OF_TRIPS, occ_worker.OCCURRENCE, color='blue',alpha = 0.7, linestyle='dashed', linewidth = 2, marker='o',\n",
    "         markerfacecolor='orange', markersize=8)\n",
    "    plt.title('Occurrence of number of trips for workers', fontsize=20)\n",
    "    plt.xlabel('Number of trips', fontsize=18)\n",
    "    plt.ylabel('Occurrence', fontsize=18)\n",
    "    plt.savefig('demand/figure/occurrence_worker.pdf')\n",
    "    plt.show()"
   ]
  },
  {
   "cell_type": "code",
   "execution_count": 284,
   "metadata": {},
   "outputs": [
    {
     "data": {
      "image/png": "[encoded data removed]",
      "text/plain": [
       "<Figure size 720x576 with 1 Axes>"
      ]
     },
     "metadata": {
      "needs_background": "light"
     },
     "output_type": "display_data"
    }
   ],
   "source": [
    "plot_nb_of_trips_workers(dir)"
   ]
  },
  {
   "cell_type": "markdown",
   "metadata": {},
   "source": [
    "## Occurrence of number of trips for no-workers"
   ]
  },
  {
   "cell_type": "code",
   "execution_count": 294,
   "metadata": {},
   "outputs": [],
   "source": [
    "def plot_nb_of_trips_no_workers(dir):\n",
    "    fname = dir\n",
    "    # read xml file\n",
    "    tree = etree.parse(fname)\n",
    "    root = tree.getroot()  \n",
    "    \n",
    "    noworker, id_nb, O_x, O_y, D_x, D_y, dep_time, mobility_service  = ([] for i in range(8))\n",
    "\n",
    "    # Iterate through the root node to get the child node \n",
    "    for user in tree.xpath(\"/population/person\") :\n",
    "        attributes = user.xpath('attributes')\n",
    "        status = attributes[0][2].text\n",
    "        if status == 'NoWorker' :\n",
    "            ID = user.get('id')\n",
    "            plan = user.xpath('plan')\n",
    "            a = plan[0].xpath(\"activity\")   # [0] is necessary \n",
    "            leg = plan[0].xpath(\"leg\")\n",
    "            x1 = []\n",
    "            y1 = []\n",
    "            x2 = []\n",
    "            y2 = []\n",
    "            time = []\n",
    "            service = []\n",
    "            for b in a :      # Iterate through activity in plan\n",
    "                x1.append(b.get(\"x\"))\n",
    "                y1.append(b.get('y'))\n",
    "                x2.append(b.get(\"x\"))\n",
    "                y2.append(b.get('y'))\n",
    "            for c in leg :   # Iterate through leg in plan\n",
    "                if c.get('mode') == 'car':\n",
    "                    service.append('PersonalVehicle')\n",
    "                else:\n",
    "                    service.append('Other')\n",
    "                    time.append(c.get('dep_time'))\n",
    "\n",
    "            x1.pop()\n",
    "            y1.pop()\n",
    "            x2.pop(0)\n",
    "            y2.pop(0)\n",
    "            id_ = [ID]*len(x1)\n",
    "            id_nb+=id_\n",
    "            O_x+=x1\n",
    "            O_y+=y1\n",
    "            D_x+=x2\n",
    "            D_y+=y2\n",
    "            dep_time+=time\n",
    "            mobility_service+=service\n",
    "\n",
    "    noworker = list(zip(id_nb,dep_time,O_x,O_y,D_x,D_y,mobility_service))    # Create a list of combinasion of 4 columns\n",
    "    # Create dataframe from listes\n",
    "    noworkerDf = pd.DataFrame(noworker, columns = ['ID', 'DEPARTURE', 'O_x', 'O_y', 'D_x', 'D_y', 'SERVICE']) \n",
    "    noworkerDf['ORIGIN'] = noworkerDf.apply(lambda x : '%s %s' % (x['O_x'], x['O_y']), axis=1)\n",
    "    noworkerDf['DESTINATION'] = noworkerDf.apply(lambda x : '%s %s' % (x['D_x'], x['D_y']), axis=1)\n",
    "    # Delet the four origins coordinates columns\n",
    "    noworkerDf = noworkerDf.drop(labels=['O_x', 'O_y', 'D_x', 'D_y'], axis=1)\n",
    "    # commented part for car users only\n",
    "    \"\"\"\n",
    "    Mobility = noworkerDf['SERVICE'].tolist()\n",
    "    indices = [i for i, x in enumerate(Mobility) if x == 'PersonalVehicle']\n",
    "    noworkerDf = noworkerDf.loc[indices]\n",
    "    \"\"\"\n",
    "    noworkerDf = noworkerDf[['ID', 'DEPARTURE', 'ORIGIN', 'DESTINATION', 'SERVICE']]\n",
    "\n",
    "    nbTrips_noworker = noworkerDf.groupby(by = 'ID').size().reset_index(name='NB_OF_TRIPS')  \n",
    "    occ_noworker = nbTrips_noworker.groupby(by = 'NB_OF_TRIPS').size().reset_index(name='OCCURRENCE') \n",
    "    plt.figure(figsize=(10, 8))\n",
    "    plt.plot(occ_noworker.NB_OF_TRIPS, occ_noworker.OCCURRENCE, color='purple',alpha = 0.7, linestyle='dashed', linewidth = 2, marker='o',\n",
    "         markerfacecolor='orange', markersize=8)\n",
    "    plt.title('Occurrence of number of trips for no-workers', fontsize=20)\n",
    "    plt.xlabel('Number of trips', fontsize=18)\n",
    "    plt.ylabel('Occurrence', fontsize=18)\n",
    "    plt.savefig('demand/figure/occurrence_noworker.pdf')\n",
    "    plt.show()\n"
   ]
  },
  {
   "cell_type": "code",
   "execution_count": 298,
   "metadata": {
    "scrolled": true
   },
   "outputs": [
    {
     "data": {
      "image/png": "[encoded data removed]",
      "text/plain": [
       "<Figure size 720x576 with 1 Axes>"
      ]
     },
     "metadata": {
      "needs_background": "light"
     },
     "output_type": "display_data"
    }
   ],
   "source": [
    "plot_nb_of_trips_no_workers(dir)"
   ]
  },
  {
   "cell_type": "markdown",
   "metadata": {},
   "source": [
    "## Turn string lists of origin and destination coordinates to float lists"
   ]
  },
  {
   "cell_type": "code",
   "execution_count": 296,
   "metadata": {},
   "outputs": [],
   "source": [
    "# function build_all_demand_dir(dir) returns all listes of coordinates\n",
    "# allUserDf, O_x, O_y, D_x, D_y = build_all_demand_df(dir) \n",
    "O_x = [eval(i) for i in O_x]  # x-coordinates of origin \n",
    "O_y = [eval(i) for i in O_y]  # y-coordinates of origin \n",
    "D_x = [eval(i) for i in D_x]  # x-coordinates of destination \n",
    "D_y = [eval(i) for i in D_y]  # y-coordinates of destination"
   ]
  },
  {
   "cell_type": "code",
   "execution_count": 299,
   "metadata": {},
   "outputs": [],
   "source": [
    "distance = []\n",
    "for i in range(len(O_x)) :\n",
    "    d = math.sqrt((O_x[i] - D_x[i])**2 + (O_y[i] - D_y[i])**2)\n",
    "    distance.append(d)"
   ]
  },
  {
   "cell_type": "code",
   "execution_count": 301,
   "metadata": {},
   "outputs": [
    {
     "name": "stdout",
     "output_type": "stream",
     "text": [
      "average distance traveled by uers is :  10510.574930298075 m\n"
     ]
    }
   ],
   "source": [
    "average = sum(distance) / len(distance)\n",
    "print('average distance traveled by uers is : ',average, 'm')"
   ]
  },
  {
   "cell_type": "markdown",
   "metadata": {},
   "source": [
    "## Preparations for heatmap matrix "
   ]
  },
  {
   "cell_type": "markdown",
   "metadata": {},
   "source": [
    "### Function that takes as input x,y of the area, returns the GPS coordinates of the center of the area"
   ]
  },
  {
   "cell_type": "code",
   "execution_count": 152,
   "metadata": {},
   "outputs": [],
   "source": [
    "# Function takes as input x,y of the area, returns the GPS coordinates of the center of the area\n",
    "def zoneCenter(x, y, pasX, pasY) :\n",
    "    x1 = O_Xmin + pasX * x\n",
    "    y1 = O_Ymin + pasY * y\n",
    "    x2 = x1 + pasX\n",
    "    y2 = y1 + pasY\n",
    "    X = (x1 + x2) / 2\n",
    "    Y = (y1 + y2) / 2\n",
    "    (X,Y) = utm.to_latlon(X,Y,31,'U')\n",
    "    return (X,Y)"
   ]
  },
  {
   "cell_type": "markdown",
   "metadata": {},
   "source": [
    "### Function that converts GPS coordinates to postalcode in Amsterdam"
   ]
  },
  {
   "cell_type": "code",
   "execution_count": 153,
   "metadata": {},
   "outputs": [],
   "source": [
    "# Fonction qui convertit GPS code postale\n",
    "geo_locator = geopy.Nominatim(user_agent='1234')\n",
    "# Latitude, Longitude\n",
    "def geoLocator(lat,long) :\n",
    "    r = geo_locator.reverse((lat, long))\n",
    "    return (r.raw['address']['postcode'])"
   ]
  },
  {
   "cell_type": "markdown",
   "metadata": {},
   "source": [
    "### New landmark with (0,0) = (52.295259699552446, 4.78129333009194)"
   ]
  },
  {
   "cell_type": "code",
   "execution_count": 154,
   "metadata": {},
   "outputs": [
    {
     "name": "stdout",
     "output_type": "stream",
     "text": [
      "coordonnée GPS du centre de la zone  (165, 538) est : (52.43454327241714, 4.786905720997837)\n"
     ]
    }
   ],
   "source": [
    "(x,y) = zoneCenter(165,538, 500, 500)\n",
    "print('coordonnée GPS du centre de la zone ',(165,538), 'est :', (x,y))"
   ]
  },
  {
   "cell_type": "code",
   "execution_count": 155,
   "metadata": {},
   "outputs": [
    {
     "name": "stdout",
     "output_type": "stream",
     "text": [
      "coordonnée GPS du centre de la zone  (193, 538) est : (52.43125327632093, 4.9927172651752105)\n"
     ]
    }
   ],
   "source": [
    "(x,y) = zoneCenter(193,538, 500, 500)\n",
    "print('coordonnée GPS du centre de la zone ',(193,538), 'est :', (x,y))"
   ]
  },
  {
   "cell_type": "code",
   "execution_count": 156,
   "metadata": {},
   "outputs": [
    {
     "name": "stdout",
     "output_type": "stream",
     "text": [
      "coordonnée GPS du centre de la zone  (193, 507) est : (52.29198609648396, 4.986459436727295)\n"
     ]
    }
   ],
   "source": [
    "(x,y) = zoneCenter(193,507, 500, 500)\n",
    "print('coordonnée GPS du centre de la zone ',(193,507), 'est :', (x,y))"
   ]
  },
  {
   "cell_type": "markdown",
   "metadata": {},
   "source": [
    "### Get min of x,y-coordinates for both origin and destination"
   ]
  },
  {
   "cell_type": "code",
   "execution_count": 302,
   "metadata": {},
   "outputs": [],
   "source": [
    "Xmin = min(O_x + D_x)\n",
    "Ymin = min(O_y + D_y)"
   ]
  },
  {
   "cell_type": "code",
   "execution_count": 304,
   "metadata": {},
   "outputs": [],
   "source": [
    "# calculate the 4 endpoints of the Amsterdam center\n",
    "# x0, y0 : min, x1, y1 : max\n",
    "x0 = 165 * 500 + Xmin  # each square in matrix is 500m x 500m\n",
    "x1 = 193 * 500 + Xmin\n",
    "y0 = 507 * 500 + Ymin\n",
    "y1 = 538 * 500 + Ymin"
   ]
  },
  {
   "cell_type": "markdown",
   "metadata": {},
   "source": [
    "## Loop which creat lists of origin and destination coordinates  according to each time period"
   ]
  },
  {
   "cell_type": "code",
   "execution_count": 315,
   "metadata": {},
   "outputs": [],
   "source": [
    "# morning (5h - 11h)\n",
    "# afternoon (16h - 20h)\n",
    "# creat lists of coordinates during each time period (1 hour)\n",
    "O_xm, O_ym, O_xs, O_ys, D_xm, D_ym, D_xs, D_ys = ([] for i in range(8))\n",
    "O_xm_5, O_ym_5,O_xm_6, O_ym_6,O_xm_7, O_ym_7, O_xm_8, O_ym_8, O_xm_9, O_ym_9, O_xm_10, O_ym_10 = ([] for i in range(12))\n",
    "D_xm_5, D_ym_5,D_xm_6, D_ym_6,D_xm_7, D_ym_7, D_xm_8, D_ym_8, D_xm_9, D_ym_9, D_xm_10, D_ym_10 = ([] for i in range(12))\n",
    "O_xs_16, O_ys_16, O_xs_17, O_ys_17, O_xs_18, O_ys_18, O_xs_19, O_ys_19 = ([] for i in range(8))\n",
    "D_xs_16, D_ys_16, D_xs_17, D_ys_17, D_xs_18, D_ys_18, D_xs_19, D_ys_19 = ([] for i in range(8))\n",
    "for i in (range(len(dep_time))) :\n",
    "    time = int(dep_time[i][:2])\n",
    "    if (time <= 11) & (time >= 5) :  # Origin/Destination in the morning\n",
    "        O_xm.append(O_x[i])\n",
    "        O_ym.append(O_y[i])\n",
    "        D_xm.append(D_x[i])\n",
    "        D_ym.append(D_y[i])\n",
    "        if (time < 6) & (time >= 5) :  # Between 5h - 6h\n",
    "            O_xm_5.append(O_x[i])\n",
    "            O_ym_5.append(O_y[i])\n",
    "            D_xm_5.append(D_x[i])\n",
    "            D_ym_5.append(D_y[i])\n",
    "        elif (time < 7) & (time >= 6) : # Between 6h - 7h\n",
    "            O_xm_6.append(O_x[i])\n",
    "            O_ym_6.append(O_y[i])\n",
    "            D_xm_6.append(D_x[i])\n",
    "            D_ym_6.append(D_y[i])\n",
    "        elif (time < 8) & (time >= 7) : # Between 7h - 8h\n",
    "            O_xm_7.append(O_x[i])\n",
    "            O_ym_7.append(O_y[i])\n",
    "            D_xm_7.append(D_x[i])\n",
    "            D_ym_7.append(D_y[i])\n",
    "        elif (time < 9) & (time >= 8) : # Between 8h - 9h\n",
    "            O_xm_8.append(O_x[i])\n",
    "            O_ym_8.append(O_y[i])\n",
    "            D_xm_8.append(D_x[i])\n",
    "            D_ym_8.append(D_y[i])\n",
    "        elif (time < 10) & (time >= 9) : # Between 9h - 10h\n",
    "            O_xm_9.append(O_x[i])\n",
    "            O_ym_9.append(O_y[i])\n",
    "            D_xm_9.append(D_x[i])\n",
    "            D_ym_9.append(D_y[i])\n",
    "        elif (time < 11) & (time >= 10) : # Between 10h - 11h\n",
    "            O_xm_10.append(O_x[i])\n",
    "            O_ym_10.append(O_y[i])\n",
    "            D_xm_10.append(D_x[i])\n",
    "            D_ym_10.append(D_y[i])\n",
    "    elif (time <= 20) & (time >= 16) : # Origine/Destination in the evening\n",
    "        O_xs.append(O_x[i])\n",
    "        O_ys.append(O_y[i])\n",
    "        D_xs.append(D_x[i])\n",
    "        D_ys.append(D_y[i])\n",
    "        if (time < 17) & (time >= 16) : # Between 16h - 17h\n",
    "            O_xs_16.append(O_x[i])\n",
    "            O_ys_16.append(O_y[i])\n",
    "            D_xs_16.append(D_x[i])\n",
    "            D_ys_16.append(D_y[i])\n",
    "        elif (time < 18) & (time >= 17) : # Between 17h - 18h\n",
    "            O_xs_17.append(O_x[i])\n",
    "            O_ys_17.append(O_y[i])\n",
    "            D_xs_17.append(D_x[i])\n",
    "            D_ys_17.append(D_y[i])\n",
    "        elif (time < 19) & (time >= 18) : # Between 18h - 19h\n",
    "            O_xs_18.append(O_x[i])\n",
    "            O_ys_18.append(O_y[i])\n",
    "            D_xs_18.append(D_x[i])\n",
    "            D_ys_18.append(D_y[i])\n",
    "        elif (time < 20) & (time >= 19) : # Between 19h - 20h\n",
    "            O_xs_19.append(O_x[i])\n",
    "            O_ys_19.append(O_y[i])\n",
    "            D_xs_19.append(D_x[i])\n",
    "            D_ys_19.append(D_y[i])"
   ]
  },
  {
   "cell_type": "markdown",
   "metadata": {},
   "source": [
    "## Heatmap matrix for morning from 5h to 11h"
   ]
  },
  {
   "cell_type": "code",
   "execution_count": 330,
   "metadata": {},
   "outputs": [],
   "source": [
    "# fucntion takes list of x-coordinates, y-coordinates and a file name as input\n",
    "# save figure of mairx \n",
    "def heatmap_matrix(list_x, list_y, fig_name):\n",
    "    # Create a matrix\n",
    "    cols = math.ceil((y1 - y0) / 500)  # round up \n",
    "    rows = math.ceil((x1 - x0) / 500)  # round up \n",
    "    size = rows*cols \n",
    "    mat_o = np.array([0]*size).reshape(rows,cols)\n",
    "    # Add number of user for each 500m^2 into matrix\n",
    "    Max = 0\n",
    "    cordinate = [0,0]\n",
    "    cordinate_exact = [0,0]\n",
    "    for i in range(len(list_x)) :\n",
    "        if (x0 <= list_x[i] <= x1) & (y0 <= list_y[i] <= y1) :\n",
    "            x = int((list_x[i] - x0) / 500)\n",
    "            y = int((list_y[i] - y0) / 500)\n",
    "            mat_o[x][y]+=1 # counter for each square\n",
    "            if mat_o[x][y] > Max :\n",
    "                Max = mat_o[x][y]\n",
    "                cordinate = [x,y]\n",
    "                cordinate_exact = [list_x[i], list_y[i]]\n",
    "    mat_o = mat_o.transpose()\n",
    "    fig1 = px.imshow(mat_o, origin = \"lower\", text_auto=False, aspect=\"equal\",  color_continuous_scale = \"tempo\", range_color=[0,1200])\n",
    "    #fig1.update_coloraxes(showscale=False)\n",
    "    fig1.update_layout(\n",
    "        #autosize=False,\n",
    "        margin = {'l':0,'r':0,'t':0,'b':0},\n",
    "    )\n",
    "    # Turn white background of fig into transparent\n",
    "    fig1.update_layout({\n",
    "    'plot_bgcolor': 'rgba(0, 0, 0, 0)',\n",
    "    'paper_bgcolor': 'rgba(0, 0, 0, 0)',\n",
    "    })\n",
    "    fig1.write_image(\"demand/figure/\" + fig_name + \".pdf\")\n",
    "    #fig1.show()"
   ]
  },
  {
   "cell_type": "markdown",
   "metadata": {},
   "source": [
    "### Departure"
   ]
  },
  {
   "cell_type": "code",
   "execution_count": 331,
   "metadata": {},
   "outputs": [],
   "source": [
    "heatmap_matrix(O_xm, O_ym, 'matrix_departure_5h_to_11h') # figure saved in 'demand/figure'"
   ]
  },
  {
   "cell_type": "markdown",
   "metadata": {},
   "source": [
    "### Arrival"
   ]
  },
  {
   "cell_type": "code",
   "execution_count": 332,
   "metadata": {},
   "outputs": [],
   "source": [
    "heatmap_matrix(D_xm, D_ym, 'matrix_arrival_5h_to_11h') # figure saved in 'demand/figure'"
   ]
  },
  {
   "cell_type": "markdown",
   "metadata": {},
   "source": [
    "## Draw density maps for morning from 5h to 11h"
   ]
  },
  {
   "cell_type": "code",
   "execution_count": 333,
   "metadata": {},
   "outputs": [],
   "source": [
    "# fucntion takes list of x-coordinates, y-coordinates and a file name as input\n",
    "# save density map\n",
    "# purple point in the map represent 'Amsterdam Centraal'\n",
    "def density_map(list_x, list_y, fig_name):\n",
    "    lat = []\n",
    "    lon = []\n",
    "    for i in range(len(list_x)) :\n",
    "        (x,y) = utm.to_latlon(list_x[i] ,list_y[i] ,31,'U')\n",
    "        lat.append(x)\n",
    "        lon.append(y)\n",
    "    data = list(zip(lat, lon))   # Create a list of combinasion of 4 columns\n",
    "    # Create dataframe from listes\n",
    "    dataDf = pd.DataFrame(data, columns = ['latitude', 'longitude'])\n",
    "    coordDf = dataDf.groupby(['latitude','longitude']).size().reset_index(name = 'count')\n",
    "    fig_O = px.density_mapbox(coordDf, lat='latitude', lon='longitude', z='count', zoom = 10, color_continuous_scale = 'tealrose' , mapbox_style = 'open-street-map', radius = 10, center=dict(lat=52.37819267002789, lon=4.90051319893427), range_color=[1,300])\n",
    "    fig_O.add_trace(go.Scattermapbox(\n",
    "            lat= [52.37918067370531],\n",
    "            lon= [4.900282727528251],\n",
    "            mode='markers',\n",
    "            text = \"Amsterdam Centraal\",\n",
    "           marker=dict(color='purple', size=10)))\n",
    "    #fig_O.show()\n",
    "    fig_O.write_image(\"demand/figure/\" + fig_name + \".pdf\")"
   ]
  },
  {
   "cell_type": "markdown",
   "metadata": {},
   "source": [
    "### Departure"
   ]
  },
  {
   "cell_type": "code",
   "execution_count": 335,
   "metadata": {},
   "outputs": [],
   "source": [
    "density_map(O_xm, O_ym, 'density_map_departure_5h_to_11h')"
   ]
  },
  {
   "cell_type": "markdown",
   "metadata": {},
   "source": [
    "### Arrival"
   ]
  },
  {
   "cell_type": "code",
   "execution_count": 336,
   "metadata": {},
   "outputs": [],
   "source": [
    "density_map(D_xm, D_ym, 'density_map_arrival_5h_to_11h')"
   ]
  },
  {
   "cell_type": "markdown",
   "metadata": {},
   "source": [
    "### Function that takes as input x,y of the area, returns the GPS coordinates of the center of the area"
   ]
  },
  {
   "cell_type": "code",
   "execution_count": 85,
   "metadata": {},
   "outputs": [],
   "source": [
    "# Function that takes as input x,y of the area, returns the GPS coordinates of the center of the area\n",
    "def coor_to_GPS(x, y, pasX, pasY) :\n",
    "    x1 = x0 + pasX * x\n",
    "    y1 = y0 + pasY * y\n",
    "    x2 = x1 + pasX\n",
    "    y2 = y1 + pasY\n",
    "    X = (x1 + x2) / 2\n",
    "    Y = (y1 + y2) / 2\n",
    "    (X,Y) = utm.to_latlon(X,Y,31,'U')\n",
    "    return (X,Y)"
   ]
  },
  {
   "cell_type": "markdown",
   "metadata": {},
   "source": [
    "## Heatmap matrix for afternoon from 16h to 20h"
   ]
  },
  {
   "cell_type": "markdown",
   "metadata": {},
   "source": [
    "### Departure"
   ]
  },
  {
   "cell_type": "code",
   "execution_count": 337,
   "metadata": {},
   "outputs": [],
   "source": [
    "heatmap_matrix(O_xs, O_ys, 'matrix_departure_16h_to_20h')"
   ]
  },
  {
   "cell_type": "markdown",
   "metadata": {},
   "source": [
    "### Arrival"
   ]
  },
  {
   "cell_type": "code",
   "execution_count": 338,
   "metadata": {},
   "outputs": [],
   "source": [
    "heatmap_matrix(D_xs, D_ys, 'matrix_arrival_16h_to_20h')"
   ]
  },
  {
   "cell_type": "markdown",
   "metadata": {},
   "source": [
    "## Draw density maps for afternoon from 16h to 20h"
   ]
  },
  {
   "cell_type": "markdown",
   "metadata": {},
   "source": [
    "### Departure"
   ]
  },
  {
   "cell_type": "code",
   "execution_count": 340,
   "metadata": {},
   "outputs": [],
   "source": [
    "density_map(O_xs, O_ys, 'density_map_departure_16h_to_20h')"
   ]
  },
  {
   "cell_type": "markdown",
   "metadata": {},
   "source": [
    "### Arrival"
   ]
  },
  {
   "cell_type": "code",
   "execution_count": 341,
   "metadata": {},
   "outputs": [],
   "source": [
    "density_map(D_xs, D_ys, 'density_map_arrival_16h_to_20h')"
   ]
  }
 ],
 "metadata": {
  "kernelspec": {
   "display_name": "Python 3 (ipykernel)",
   "language": "python",
   "name": "python3"
  },
  "language_info": {
   "codemirror_mode": {
    "name": "ipython",
    "version": 3
   },
   "file_extension": ".py",
   "mimetype": "text/x-python",
   "name": "python",
   "nbconvert_exporter": "python",
   "pygments_lexer": "ipython3",
   "version": "3.9.12"
  },
  "toc": {
   "base_numbering": 1,
   "nav_menu": {},
   "number_sections": true,
   "sideBar": true,
   "skip_h1_title": false,
   "title_cell": "Table of Contents",
   "title_sidebar": "Contents",
   "toc_cell": false,
   "toc_position": {},
   "toc_section_display": true,
   "toc_window_display": true
  }
 },
 "nbformat": 4,
 "nbformat_minor": 4
}
