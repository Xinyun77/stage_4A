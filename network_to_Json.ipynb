{
 "cells": [
  {
   "cell_type": "markdown",
   "id": "07d86517",
   "metadata": {},
   "source": [
    "# Working file : Network.xml"
   ]
  },
  {
   "cell_type": "code",
   "execution_count": 3,
   "id": "74beafa5-60e2-4e57-aa85-175ad1de558d",
   "metadata": {},
   "outputs": [],
   "source": [
    "# coding: utf-8\n",
    "import xml.etree.ElementTree as ETree\n",
    "import pandas as pd\n",
    "import json \n",
    "import utm"
   ]
  },
  {
   "cell_type": "code",
   "execution_count": 4,
   "id": "1e54e509-d02c-46b6-a381-02ffb85f41f8",
   "metadata": {},
   "outputs": [],
   "source": [
    "# Read xml\n",
    "nodeData = '/Users/xinyun/Documents/Stage4A/data/Network.xml'\n",
    "prstree = ETree.parse(nodeData)\n",
    "root = prstree.getroot()"
   ]
  },
  {
   "cell_type": "markdown",
   "id": "ae8d9774",
   "metadata": {},
   "source": [
    "# *The endpoints of the simulation area that I used during my intern*"
   ]
  },
  {
   "cell_type": "code",
   "execution_count": 90,
   "id": "c096a9be",
   "metadata": {},
   "outputs": [],
   "source": [
    "# contour\n",
    "(xmin_simulation, ymin_simulation, xmax_simulation, ymax_simulation) = (625017.9576056905, 5798791.299367087,\n",
    "                                                                        634641.3677946266, 5810286.725571055)\n"
   ]
  },
  {
   "cell_type": "markdown",
   "id": "c6e4a911-2dcc-4a12-8338-71ec3e947d5a",
   "metadata": {},
   "source": [
    "## **Get 2D list of node** "
   ]
  },
  {
   "cell_type": "code",
   "execution_count": 78,
   "id": "f2d4093f-f74b-41f8-8ede-7baea81cf637",
   "metadata": {},
   "outputs": [],
   "source": [
    "# Create two lists\n",
    "items = []\n",
    "node = []\n",
    "\n",
    "# Iterate through the root node to get the child node \n",
    "for n in root.iter('node') :\n",
    "    id_nb = n.attrib.get('id')\n",
    "    x = n.attrib.get('x')\n",
    "    y = n.attrib.get('y')  \n",
    "    items = [id_nb, x, y]   # Create a list for each row\n",
    "    node.append(items)"
   ]
  },
  {
   "cell_type": "markdown",
   "id": "84e257f2",
   "metadata": {},
   "source": [
    "### Number of nodes"
   ]
  },
  {
   "cell_type": "code",
   "execution_count": 79,
   "id": "ebc98233",
   "metadata": {},
   "outputs": [
    {
     "data": {
      "text/plain": [
       "17435"
      ]
     },
     "execution_count": 79,
     "metadata": {},
     "output_type": "execute_result"
    }
   ],
   "source": [
    "len(node)"
   ]
  },
  {
   "cell_type": "markdown",
   "id": "5e3b34a4",
   "metadata": {},
   "source": [
    "### Get the endpoints of nodes"
   ]
  },
  {
   "cell_type": "code",
   "execution_count": 80,
   "id": "462850df",
   "metadata": {},
   "outputs": [],
   "source": [
    "xmin = float(min(node[r][1] for r in range(len(node))))\n",
    "ymin = float(min(node[r][2] for r in range(len(node))))\n",
    "xmax = float(max(node[r][1] for r in range(len(node))))\n",
    "ymax = float(max(node[r][2] for r in range(len(node))))"
   ]
  },
  {
   "cell_type": "code",
   "execution_count": 81,
   "id": "79e54d81",
   "metadata": {},
   "outputs": [
    {
     "name": "stdout",
     "output_type": "stream",
     "text": [
      "594329.0264295612 5764460.89353358 652661.608364352 5843471.6513260715\n"
     ]
    }
   ],
   "source": [
    "print(xmin, ymin, xmax, ymax)"
   ]
  },
  {
   "cell_type": "code",
   "execution_count": 82,
   "id": "5c734403",
   "metadata": {},
   "outputs": [
    {
     "data": {
      "text/plain": [
       "58332.581934790825"
      ]
     },
     "execution_count": 82,
     "metadata": {},
     "output_type": "execute_result"
    }
   ],
   "source": [
    "# get the length of the node coverage area\n",
    "xmax - xmin"
   ]
  },
  {
   "cell_type": "code",
   "execution_count": 83,
   "id": "7f141610",
   "metadata": {},
   "outputs": [
    {
     "data": {
      "text/plain": [
       "79010.75779249147"
      ]
     },
     "execution_count": 83,
     "metadata": {},
     "output_type": "execute_result"
    }
   ],
   "source": [
    "# get the width of the node coverage area\n",
    "ymax - ymin"
   ]
  },
  {
   "cell_type": "markdown",
   "id": "cc427a12-1c74-44fe-bd64-d03bc48c3263",
   "metadata": {},
   "source": [
    "## **Get 2D list of link** "
   ]
  },
  {
   "cell_type": "code",
   "execution_count": 84,
   "id": "140197d9-d059-4d6d-bf51-3d620ef0e49e",
   "metadata": {},
   "outputs": [],
   "source": [
    "# Create two lists\n",
    "items_ = []\n",
    "link = []\n",
    "car = []\n",
    "c = []\n",
    "# Iterate through the root node to get the child node\n",
    "for l in root.iter('link') :\n",
    "    id_nb = l.attrib.get('id')\n",
    "    start = l.attrib.get('from')\n",
    "    end = l.attrib.get('to')\n",
    "    length = l.attrib.get('length')\n",
    "    modes = l.attrib.get('modes')\n",
    "    items_ = [id_nb, start, end, length, modes]\n",
    "    # List contains all kinds of modes of transport (car, pt)\n",
    "    link.append(items_)\n",
    "    # List contains only cars(car and pt,car)\n",
    "    if (modes == 'pt,car') | (modes == 'car') :\n",
    "        c = [id_nb, start, end, length, 'CAR']\n",
    "        car.append(c)      "
   ]
  },
  {
   "cell_type": "markdown",
   "id": "06ae6eea",
   "metadata": {},
   "source": [
    "### Number of links"
   ]
  },
  {
   "cell_type": "code",
   "execution_count": 86,
   "id": "5bf97d67",
   "metadata": {},
   "outputs": [
    {
     "data": {
      "text/plain": [
       "31177"
      ]
     },
     "execution_count": 86,
     "metadata": {},
     "output_type": "execute_result"
    }
   ],
   "source": [
    "len(link)"
   ]
  },
  {
   "cell_type": "markdown",
   "id": "7516ffac-37a8-48e5-9b6d-18ad81c910f1",
   "metadata": {},
   "source": [
    "## **Dictionary and Json file**"
   ]
  },
  {
   "cell_type": "markdown",
   "id": "adc9648f",
   "metadata": {},
   "source": [
    "### Initialisation "
   ]
  },
  {
   "cell_type": "code",
   "execution_count": 91,
   "id": "f828d33f-e293-44a3-9a6a-d2dcbcf3a61e",
   "metadata": {},
   "outputs": [],
   "source": [
    "# Empty nested dictionary\n",
    "Network = { 'ROADS': {'NODES': {}, 'STOPS': {}, 'SECTIONS': {}, 'ZONES': {} },\n",
    "         'LAYERS': [{}], 'TRANSIT': [] }"
   ]
  },
  {
   "cell_type": "code",
   "execution_count": 92,
   "id": "97ea27b9",
   "metadata": {},
   "outputs": [],
   "source": [
    "# Initialisation the first position of 'LAYERS'\n",
    "Network['LAYERS'][0] = {'ID' : 'CAR', 'TYPE' : 'mnms.graph.layers.CarLayer',  'VEH_TYPE': 'mnms.vehicles.veh_type.Car',\n",
    "    'DEFAULT_SPEED': 13.8,  'SERVICES': [], 'NODES': [], 'LINKS': [], 'MAP_ROADDB': {'NODES' : {}, 'LINKS' : {}}}"
   ]
  },
  {
   "cell_type": "markdown",
   "id": "35797e19",
   "metadata": {},
   "source": [
    "### Creat network Json file"
   ]
  },
  {
   "cell_type": "code",
   "execution_count": 93,
   "id": "7107745a-fd35-4f39-88bc-8f7710c10775",
   "metadata": {},
   "outputs": [],
   "source": [
    "\n",
    "for part,info in Network.items() :\n",
    "    # the ROADS object\n",
    "    if part == 'ROADS' :\n",
    "        for key in info :\n",
    "            if key == 'NODES' :  # Nodes part\n",
    "                for i in range(len(node)) :\n",
    "                    id_node = node[i][0]\n",
    "                    x = float(node[i][1])\n",
    "                    y = float(node[i][2])\n",
    "                    info[key][id_node] = {}\n",
    "                    info[key][id_node]['id'] = id_node\n",
    "                    info[key][id_node]['position'] = [x,y]\n",
    "            if key == 'SECTIONS' : # Sections part\n",
    "                for i in range(len(link)) :\n",
    "                    id_section = link[i][0]\n",
    "                    upstream = link[i][1]\n",
    "                    downstream = link[i][2]\n",
    "                    length = float(link[i][3])\n",
    "                    zone = 'RES'\n",
    "                    info[key][id_section] = {'id' : id_section, 'upstream' : upstream, 'downstream' : downstream, 'length' : length, 'zone' : zone}\n",
    "               # Stops part ......\n",
    "            if key == 'ZONES' : # Zones part\n",
    "                info[key]['RES'] = {}\n",
    "                info[key]['RES']['id'] = 'RES'\n",
    "                info[key]['RES']['sections'] = []\n",
    "                # add the endpoints of the simulation area to the contour\n",
    "                info[key]['RES']['contour'] = [[xmin_simulation, ymin_simulation],[xmin_simulation, ymax_simulation], \n",
    "                                               [xmax_simulation, ymin_simulation], [xmax_simulation, ymax_simulation]]\n",
    "                for i in range(len(link)) :\n",
    "                    id_section = link[i][0]\n",
    "                    info[key]['RES']['sections'].append(id_section)\n",
    "    # the LAYERS object\n",
    "    if part == 'LAYERS' :\n",
    "        # Car layer (first {})\n",
    "        for key,value in  Network['LAYERS'][0].items() :\n",
    "            if key == 'NODES' :\n",
    "                for i in range(len(node)) :\n",
    "                    ID = node[i][0]\n",
    "                    X = float(node[i][1])\n",
    "                    Y = float(node[i][2])\n",
    "                    value.append({'ID' : ID, 'X' : X, 'Y' : Y, 'LABEL' : 'CAR', 'EXCLUDE_MOVEMENTS' : {}})\n",
    "            if key == 'LINKS' :\n",
    "                for i in range(len(car)) :\n",
    "                    ID = car[i][0]\n",
    "                    upstream = car[i][1]\n",
    "                    downstream = car[i][2]\n",
    "                    length = float(car[i][3])\n",
    "                    label = car[i][4]\n",
    "                    value.append({'ID' : ID, 'UPSTREAM': upstream, 'DOWNSTREAM' : downstream, 'COSTS' : {'length' : length}, 'LABEL' : label})\n",
    "            if key == 'MAP_ROADDB' :\n",
    "                for k,v in Network['LAYERS'][0]['MAP_ROADDB'].items() :\n",
    "                    # Key = 'NODES'\n",
    "                    if k == 'NODES' :\n",
    "                        for i in range(len(node)) :\n",
    "                            ID_node = node[i][0]  # Get node ID\n",
    "                            v[ID_node] = ID_node\n",
    "                    # Key = 'LINKS'\n",
    "                    if k == 'LINKS' :\n",
    "                        for i in range(len(car)) :\n",
    "                            ID_link = car[i][0] # Get link ID\n",
    "                            v[ID_link] = [ID_link]\n",
    "                            \n",
    "  #  if part == 'TRANSIT' :\n",
    "   #     for i in range(len(car)) :\n",
    "    #        ID = car[i][0]\n",
    "     #       upstream = car[i][1]\n",
    "      #      downstream = car[i][2]\n",
    "      #      length = float(car[i][3])\n",
    "       #     label = car[i][4]\n",
    "        #    info.append({'ID' : ID, 'UPSTREAM': upstream, 'DOWNSTREAM' : downstream, 'LENGTH' : length,  'COSTS' : {'length' : length}, 'LABEL' : label})\n",
    "            \n",
    "        "
   ]
  },
  {
   "cell_type": "markdown",
   "id": "f8c60c5c",
   "metadata": {},
   "source": [
    "### Turn network dictionary into Json file"
   ]
  },
  {
   "cell_type": "code",
   "execution_count": 94,
   "id": "f0c140ae",
   "metadata": {},
   "outputs": [],
   "source": [
    "# Serializing Json  \n",
    "json_object = json.dumps(Network, indent = 4) \n",
    "with open(\"network/network_Amsterdam_scenario.json\", \"w\") as outfile:\n",
    "    outfile.write(json_object)"
   ]
  },
  {
   "cell_type": "markdown",
   "id": "d77ee005",
   "metadata": {},
   "source": [
    "# Preparation for drawing links and nodes on ArcMap "
   ]
  },
  {
   "cell_type": "markdown",
   "id": "f6391508",
   "metadata": {},
   "source": [
    "## Get coordinates of nodes in the network"
   ]
  },
  {
   "cell_type": "code",
   "execution_count": 96,
   "id": "397095aa",
   "metadata": {},
   "outputs": [],
   "source": [
    "# finction takes the filename of network Json file as input\n",
    "# returns the dataframe contains all nodes' coordinates \n",
    "def nodesInJson(filename):\n",
    "    # Opening JSON file\n",
    "    f = open(filename)\n",
    "    # returns JSON object as a dictionary\n",
    "    network = json.load(f)\n",
    "    # Iterating through the json\n",
    "    # get nodes\n",
    "    layers = network['LAYERS']\n",
    "    nodes = layers[0]['NODES']  # a liste of dict\n",
    "    ID = []\n",
    "    X = []\n",
    "    Y = []\n",
    "    for dict in nodes:\n",
    "        latlon = utm.to_latlon(dict['X'], dict['Y'], 31, 'U')\n",
    "        ID.append(dict['ID'])\n",
    "        X.append(latlon[0])\n",
    "        Y.append(latlon[1])\n",
    "    coord = list(zip(ID, X, Y))\n",
    "    nodeDf = pd.DataFrame(coord, columns=['ID', 'X', 'Y'])\n",
    "    return nodeDf "
   ]
  },
  {
   "cell_type": "code",
   "execution_count": 95,
   "id": "7d704d9e",
   "metadata": {},
   "outputs": [
    {
     "data": {
      "text/html": [
       "<div>\n",
       "<style scoped>\n",
       "    .dataframe tbody tr th:only-of-type {\n",
       "        vertical-align: middle;\n",
       "    }\n",
       "\n",
       "    .dataframe tbody tr th {\n",
       "        vertical-align: top;\n",
       "    }\n",
       "\n",
       "    .dataframe thead th {\n",
       "        text-align: right;\n",
       "    }\n",
       "</style>\n",
       "<table border=\"1\" class=\"dataframe\">\n",
       "  <thead>\n",
       "    <tr style=\"text-align: right;\">\n",
       "      <th></th>\n",
       "      <th>ID</th>\n",
       "      <th>X</th>\n",
       "      <th>Y</th>\n",
       "    </tr>\n",
       "  </thead>\n",
       "  <tbody>\n",
       "    <tr>\n",
       "      <th>0</th>\n",
       "      <td>m1000680335</td>\n",
       "      <td>52.646034</td>\n",
       "      <td>4.737600</td>\n",
       "    </tr>\n",
       "    <tr>\n",
       "      <th>1</th>\n",
       "      <td>m1000680344</td>\n",
       "      <td>52.646028</td>\n",
       "      <td>4.738807</td>\n",
       "    </tr>\n",
       "    <tr>\n",
       "      <th>2</th>\n",
       "      <td>m1000830542</td>\n",
       "      <td>52.362739</td>\n",
       "      <td>4.787499</td>\n",
       "    </tr>\n",
       "    <tr>\n",
       "      <th>3</th>\n",
       "      <td>m1003028149</td>\n",
       "      <td>52.363145</td>\n",
       "      <td>4.804220</td>\n",
       "    </tr>\n",
       "    <tr>\n",
       "      <th>4</th>\n",
       "      <td>m1003028151</td>\n",
       "      <td>52.362966</td>\n",
       "      <td>4.804315</td>\n",
       "    </tr>\n",
       "    <tr>\n",
       "      <th>...</th>\n",
       "      <td>...</td>\n",
       "      <td>...</td>\n",
       "      <td>...</td>\n",
       "    </tr>\n",
       "    <tr>\n",
       "      <th>17430</th>\n",
       "      <td>m997413137</td>\n",
       "      <td>52.351959</td>\n",
       "      <td>4.737111</td>\n",
       "    </tr>\n",
       "    <tr>\n",
       "      <th>17431</th>\n",
       "      <td>m997413138</td>\n",
       "      <td>52.352931</td>\n",
       "      <td>4.737559</td>\n",
       "    </tr>\n",
       "    <tr>\n",
       "      <th>17432</th>\n",
       "      <td>m997996379</td>\n",
       "      <td>52.357997</td>\n",
       "      <td>4.778998</td>\n",
       "    </tr>\n",
       "    <tr>\n",
       "      <th>17433</th>\n",
       "      <td>m997996404</td>\n",
       "      <td>52.357267</td>\n",
       "      <td>4.777355</td>\n",
       "    </tr>\n",
       "    <tr>\n",
       "      <th>17434</th>\n",
       "      <td>m998360492</td>\n",
       "      <td>52.361634</td>\n",
       "      <td>4.744346</td>\n",
       "    </tr>\n",
       "  </tbody>\n",
       "</table>\n",
       "<p>17435 rows × 3 columns</p>\n",
       "</div>"
      ],
      "text/plain": [
       "                ID          X         Y\n",
       "0      m1000680335  52.646034  4.737600\n",
       "1      m1000680344  52.646028  4.738807\n",
       "2      m1000830542  52.362739  4.787499\n",
       "3      m1003028149  52.363145  4.804220\n",
       "4      m1003028151  52.362966  4.804315\n",
       "...            ...        ...       ...\n",
       "17430   m997413137  52.351959  4.737111\n",
       "17431   m997413138  52.352931  4.737559\n",
       "17432   m997996379  52.357997  4.778998\n",
       "17433   m997996404  52.357267  4.777355\n",
       "17434   m998360492  52.361634  4.744346\n",
       "\n",
       "[17435 rows x 3 columns]"
      ]
     },
     "execution_count": 95,
     "metadata": {},
     "output_type": "execute_result"
    }
   ],
   "source": [
    "nodeDf = nodesInJson('network/network_Amsterdam_scenario.json')\n",
    "nodeDf"
   ]
  },
  {
   "cell_type": "markdown",
   "id": "fb428ac8",
   "metadata": {},
   "source": [
    "### Get coordinates of links in the network "
   ]
  },
  {
   "cell_type": "code",
   "execution_count": 97,
   "id": "462f4cf6",
   "metadata": {},
   "outputs": [],
   "source": [
    "def linksInJson(filename):\n",
    "    # Opening JSON file\n",
    "    f = open(filename)\n",
    "    # returns JSON object as a dictionary\n",
    "    network = json.load(f)\n",
    "    # Iterating through the json\n",
    "    # get links\n",
    "    layers = network['LAYERS']\n",
    "    links = layers[0]['LINKS'] \n",
    "    \n",
    "    X_START = []\n",
    "    Y_START = []\n",
    "    X_END = []\n",
    "    Y_END = []\n",
    "    ID = []\n",
    "    for dict in links:\n",
    "        id = dict['ID']\n",
    "        id_up = dict['UPSTREAM']\n",
    "        id_down = dict['DOWNSTREAM']\n",
    "        upDf = nodeDf.loc[(nodeDf.ID == id_up)]\n",
    "        downDf = nodeDf.loc[(nodeDf.ID == id_down)]\n",
    "        lat_s = upDf.iloc[0]['X']\n",
    "        lon_s = upDf.iloc[0]['Y']\n",
    "        lat_e = downDf.iloc[0]['X']\n",
    "        lon_e = downDf.iloc[0]['Y']\n",
    "        X_START.append(lat_s)\n",
    "        Y_START.append(lon_s)\n",
    "        X_END.append(lat_e)\n",
    "        Y_END.append(lon_e)\n",
    "        ID.append(id)\n",
    "    coord = list(zip(ID, X_START, Y_START, X_END, Y_END))\n",
    "    linkDf = pd.DataFrame(coord, columns=['ID', 'X_START', 'Y_START', 'X_END', 'Y_END'])\n",
    "    return linkDf"
   ]
  },
  {
   "cell_type": "code",
   "execution_count": 98,
   "id": "b9a3394a",
   "metadata": {},
   "outputs": [
    {
     "data": {
      "text/html": [
       "<div>\n",
       "<style scoped>\n",
       "    .dataframe tbody tr th:only-of-type {\n",
       "        vertical-align: middle;\n",
       "    }\n",
       "\n",
       "    .dataframe tbody tr th {\n",
       "        vertical-align: top;\n",
       "    }\n",
       "\n",
       "    .dataframe thead th {\n",
       "        text-align: right;\n",
       "    }\n",
       "</style>\n",
       "<table border=\"1\" class=\"dataframe\">\n",
       "  <thead>\n",
       "    <tr style=\"text-align: right;\">\n",
       "      <th></th>\n",
       "      <th>ID</th>\n",
       "      <th>X_START</th>\n",
       "      <th>Y_START</th>\n",
       "      <th>X_END</th>\n",
       "      <th>Y_END</th>\n",
       "    </tr>\n",
       "  </thead>\n",
       "  <tbody>\n",
       "    <tr>\n",
       "      <th>0</th>\n",
       "      <td>m100106293_0</td>\n",
       "      <td>52.118519</td>\n",
       "      <td>5.034389</td>\n",
       "      <td>52.118749</td>\n",
       "      <td>5.034602</td>\n",
       "    </tr>\n",
       "    <tr>\n",
       "      <th>1</th>\n",
       "      <td>m100128682_0</td>\n",
       "      <td>52.356219</td>\n",
       "      <td>4.827185</td>\n",
       "      <td>52.356221</td>\n",
       "      <td>4.827275</td>\n",
       "    </tr>\n",
       "    <tr>\n",
       "      <th>2</th>\n",
       "      <td>m100128682_0_r</td>\n",
       "      <td>52.356221</td>\n",
       "      <td>4.827275</td>\n",
       "      <td>52.356219</td>\n",
       "      <td>4.827185</td>\n",
       "    </tr>\n",
       "    <tr>\n",
       "      <th>3</th>\n",
       "      <td>m100699928_0</td>\n",
       "      <td>52.118234</td>\n",
       "      <td>5.034047</td>\n",
       "      <td>52.118382</td>\n",
       "      <td>5.034090</td>\n",
       "    </tr>\n",
       "    <tr>\n",
       "      <th>4</th>\n",
       "      <td>m100699931_0</td>\n",
       "      <td>52.119122</td>\n",
       "      <td>5.034530</td>\n",
       "      <td>52.118653</td>\n",
       "      <td>5.034120</td>\n",
       "    </tr>\n",
       "    <tr>\n",
       "      <th>...</th>\n",
       "      <td>...</td>\n",
       "      <td>...</td>\n",
       "      <td>...</td>\n",
       "      <td>...</td>\n",
       "      <td>...</td>\n",
       "    </tr>\n",
       "    <tr>\n",
       "      <th>31127</th>\n",
       "      <td>m99485408_2</td>\n",
       "      <td>52.351341</td>\n",
       "      <td>4.856097</td>\n",
       "      <td>52.351375</td>\n",
       "      <td>4.856210</td>\n",
       "    </tr>\n",
       "    <tr>\n",
       "      <th>31128</th>\n",
       "      <td>m99485410_0</td>\n",
       "      <td>52.351004</td>\n",
       "      <td>4.851695</td>\n",
       "      <td>52.350951</td>\n",
       "      <td>4.852008</td>\n",
       "    </tr>\n",
       "    <tr>\n",
       "      <th>31129</th>\n",
       "      <td>m99485410_1</td>\n",
       "      <td>52.350951</td>\n",
       "      <td>4.852008</td>\n",
       "      <td>52.350931</td>\n",
       "      <td>4.852195</td>\n",
       "    </tr>\n",
       "    <tr>\n",
       "      <th>31130</th>\n",
       "      <td>m99485412_0</td>\n",
       "      <td>52.350992</td>\n",
       "      <td>4.852565</td>\n",
       "      <td>52.351032</td>\n",
       "      <td>4.852224</td>\n",
       "    </tr>\n",
       "    <tr>\n",
       "      <th>31131</th>\n",
       "      <td>m99998240_0</td>\n",
       "      <td>52.105661</td>\n",
       "      <td>5.059218</td>\n",
       "      <td>52.099099</td>\n",
       "      <td>5.066680</td>\n",
       "    </tr>\n",
       "  </tbody>\n",
       "</table>\n",
       "<p>31132 rows × 5 columns</p>\n",
       "</div>"
      ],
      "text/plain": [
       "                   ID    X_START   Y_START      X_END     Y_END\n",
       "0        m100106293_0  52.118519  5.034389  52.118749  5.034602\n",
       "1        m100128682_0  52.356219  4.827185  52.356221  4.827275\n",
       "2      m100128682_0_r  52.356221  4.827275  52.356219  4.827185\n",
       "3        m100699928_0  52.118234  5.034047  52.118382  5.034090\n",
       "4        m100699931_0  52.119122  5.034530  52.118653  5.034120\n",
       "...               ...        ...       ...        ...       ...\n",
       "31127     m99485408_2  52.351341  4.856097  52.351375  4.856210\n",
       "31128     m99485410_0  52.351004  4.851695  52.350951  4.852008\n",
       "31129     m99485410_1  52.350951  4.852008  52.350931  4.852195\n",
       "31130     m99485412_0  52.350992  4.852565  52.351032  4.852224\n",
       "31131     m99998240_0  52.105661  5.059218  52.099099  5.066680\n",
       "\n",
       "[31132 rows x 5 columns]"
      ]
     },
     "execution_count": 98,
     "metadata": {},
     "output_type": "execute_result"
    }
   ],
   "source": [
    "linkDf = linkInJson('network/network_Amsterdam_scenario.json')\n",
    "linkDf"
   ]
  },
  {
   "cell_type": "markdown",
   "id": "8746bd34",
   "metadata": {},
   "source": [
    "### Save dataframe as csv file"
   ]
  },
  {
   "cell_type": "code",
   "execution_count": 73,
   "id": "28b47b96",
   "metadata": {},
   "outputs": [],
   "source": [
    "#linkDf.to_csv('linkDf.csv', sep = \";\", index=False)\n",
    "#nodeDf.to_csv('nodeDf.csv', sep = \";\", index = False)"
   ]
  }
 ],
 "metadata": {
  "kernelspec": {
   "display_name": "Python 3 (ipykernel)",
   "language": "python",
   "name": "python3"
  },
  "language_info": {
   "codemirror_mode": {
    "name": "ipython",
    "version": 3
   },
   "file_extension": ".py",
   "mimetype": "text/x-python",
   "name": "python",
   "nbconvert_exporter": "python",
   "pygments_lexer": "ipython3",
   "version": "3.9.12"
  }
 },
 "nbformat": 4,
 "nbformat_minor": 5
}
