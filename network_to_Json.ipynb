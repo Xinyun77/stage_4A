{
 "cells": [
  {
   "cell_type": "code",
   "execution_count": 1,
   "id": "74beafa5-60e2-4e57-aa85-175ad1de558d",
   "metadata": {},
   "outputs": [],
   "source": [
    "# coding: utf-8\n",
    "import xml.etree.ElementTree as ETree\n",
    "import pandas as pd\n",
    "import json \n",
    "import utm"
   ]
  },
  {
   "cell_type": "code",
   "execution_count": 3,
   "id": "1e54e509-d02c-46b6-a381-02ffb85f41f8",
   "metadata": {},
   "outputs": [],
   "source": [
    "# Read xml\n",
    "nodeData = '/Users/xinyun/Documents/Stage4A/data/Network.xml'\n",
    "prstree = ETree.parse(nodeData)\n",
    "root = prstree.getroot()"
   ]
  },
  {
   "cell_type": "markdown",
   "id": "c6e4a911-2dcc-4a12-8338-71ec3e947d5a",
   "metadata": {},
   "source": [
    "### **Get 2D list of node** "
   ]
  },
  {
   "cell_type": "code",
   "execution_count": 4,
   "id": "f2d4093f-f74b-41f8-8ede-7baea81cf637",
   "metadata": {},
   "outputs": [],
   "source": [
    "# Create two lists\n",
    "items = []\n",
    "node = []\n",
    "\n",
    "# Iterate through the root node to get the child node \n",
    "for n in root.iter('node') :\n",
    "    id_nb = n.attrib.get('id')\n",
    "    x = n.attrib.get('x')\n",
    "    y = n.attrib.get('y')\n",
    "    \n",
    "    items = [id_nb, x, y]   # Create a list for each row\n",
    "    node.append(items)"
   ]
  },
  {
   "cell_type": "code",
   "execution_count": 4,
   "id": "ebc98233",
   "metadata": {},
   "outputs": [
    {
     "data": {
      "text/plain": [
       "17435"
      ]
     },
     "execution_count": 4,
     "metadata": {},
     "output_type": "execute_result"
    }
   ],
   "source": [
    "len(node)"
   ]
  },
  {
   "cell_type": "code",
   "execution_count": 5,
   "id": "462850df",
   "metadata": {},
   "outputs": [],
   "source": [
    "xmin = float(min(node[r][1] for r in range(len(node))))\n",
    "ymin = float(min(node[r][2] for r in range(len(node))))\n",
    "xmax = float(max(node[r][1] for r in range(len(node))))\n",
    "ymax = float(max(node[r][2] for r in range(len(node))))"
   ]
  },
  {
   "cell_type": "code",
   "execution_count": 6,
   "id": "79e54d81",
   "metadata": {},
   "outputs": [
    {
     "name": "stdout",
     "output_type": "stream",
     "text": [
      "594329.0264295612 5764460.89353358 652661.608364352 5843471.6513260715\n"
     ]
    }
   ],
   "source": [
    "print(xmin, ymin, xmax, ymax)"
   ]
  },
  {
   "cell_type": "code",
   "execution_count": 7,
   "id": "79c34c18",
   "metadata": {},
   "outputs": [
    {
     "name": "stdout",
     "output_type": "stream",
     "text": [
      "52.022752036643354 4.374775247912083 52.719564351976736 5.2603226194780905\n"
     ]
    }
   ],
   "source": [
    "(X0,Y0) = utm.to_latlon(xmin,ymin,31,'U')\n",
    "(X1,Y1) = utm.to_latlon(xmax,ymax,31,'U')\n",
    "print(X0, Y0, X1, Y1)"
   ]
  },
  {
   "cell_type": "code",
   "execution_count": 7,
   "id": "5c734403",
   "metadata": {},
   "outputs": [
    {
     "data": {
      "text/plain": [
       "58332.581934790825"
      ]
     },
     "execution_count": 7,
     "metadata": {},
     "output_type": "execute_result"
    }
   ],
   "source": [
    "xmax - xmin"
   ]
  },
  {
   "cell_type": "code",
   "execution_count": 8,
   "id": "7f141610",
   "metadata": {},
   "outputs": [
    {
     "data": {
      "text/plain": [
       "79010.75779249147"
      ]
     },
     "execution_count": 8,
     "metadata": {},
     "output_type": "execute_result"
    }
   ],
   "source": [
    "ymax - ymin"
   ]
  },
  {
   "cell_type": "markdown",
   "id": "b2aa3372",
   "metadata": {},
   "source": [
    "### Get first 3 lines of nodes "
   ]
  },
  {
   "cell_type": "code",
   "execution_count": 17,
   "id": "646b07d1",
   "metadata": {},
   "outputs": [],
   "source": [
    "# Create two lists\n",
    "items = []\n",
    "node = []\n",
    "\n",
    "# Iterate through the root node to get the child node \n",
    "counter = 0\n",
    "for n in root.iter('node') :\n",
    "    counter+=1\n",
    "    if counter <=1 :\n",
    "        id_nb = n.attrib.get('id')\n",
    "        x = n.attrib.get('x')\n",
    "        y = n.attrib.get('y')\n",
    "\n",
    "        items = [id_nb, x, y]   # Create a list for each row\n",
    "        node.append(items)\n",
    "    else :\n",
    "        break\n",
    "    "
   ]
  },
  {
   "cell_type": "markdown",
   "id": "2ca238e4",
   "metadata": {},
   "source": [
    "### Get  first 10 lines of nodes"
   ]
  },
  {
   "cell_type": "code",
   "execution_count": 6,
   "id": "ec119340",
   "metadata": {},
   "outputs": [],
   "source": [
    "# Create two lists\n",
    "items = []\n",
    "node = []\n",
    "\n",
    "# Iterate through the root node to get the child node \n",
    "counter = 0\n",
    "for n in root.iter('node') :\n",
    "    counter+=1\n",
    "    if counter <=10 :\n",
    "        id_nb = n.attrib.get('id')\n",
    "        x = n.attrib.get('x')\n",
    "        y = n.attrib.get('y')\n",
    "\n",
    "        items = [id_nb, x, y]   # Create a list for each row\n",
    "        node.append(items)\n",
    "    else :\n",
    "        break\n",
    "    "
   ]
  },
  {
   "cell_type": "markdown",
   "id": "31ada954",
   "metadata": {},
   "source": [
    "### Get first 3 lines of links"
   ]
  },
  {
   "cell_type": "code",
   "execution_count": 18,
   "id": "d7d0541c",
   "metadata": {},
   "outputs": [],
   "source": [
    "# Create two lists\n",
    "items_ = []\n",
    "link = []\n",
    "car = []\n",
    "c = []\n",
    "# Iterate through the root node to get the child node\n",
    "counter = 0\n",
    "for l in root.iter('link') :\n",
    "    counter+=1\n",
    "    if counter <= 1 :\n",
    "        id_nb = l.attrib.get('id')\n",
    "        start = l.attrib.get('from')\n",
    "        end = l.attrib.get('to')\n",
    "        length = l.attrib.get('length')\n",
    "        modes = l.attrib.get('modes')\n",
    "        items_ = [id_nb, start, end, length, modes]\n",
    "        # List contains all kinds of modes of transport (car, pt)\n",
    "        link.append(items_)\n",
    "        # List contains only cars(car and pt,car)\n",
    "        if (modes == 'pt,car') | (modes == 'car') :\n",
    "            c = [id_nb, start, end, length, 'CAR']\n",
    "            car.append(c)\n",
    "    else :\n",
    "        break"
   ]
  },
  {
   "cell_type": "markdown",
   "id": "cc427a12-1c74-44fe-bd64-d03bc48c3263",
   "metadata": {},
   "source": [
    "### **Get 2D list of link** "
   ]
  },
  {
   "cell_type": "code",
   "execution_count": 19,
   "id": "140197d9-d059-4d6d-bf51-3d620ef0e49e",
   "metadata": {},
   "outputs": [],
   "source": [
    "# Create two lists\n",
    "items_ = []\n",
    "link = []\n",
    "car = []\n",
    "c = []\n",
    "# Iterate through the root node to get the child node\n",
    "for l in root.iter('link') :\n",
    "    id_nb = l.attrib.get('id')\n",
    "    start = l.attrib.get('from')\n",
    "    end = l.attrib.get('to')\n",
    "    length = l.attrib.get('length')\n",
    "    modes = l.attrib.get('modes')\n",
    "    items_ = [id_nb, start, end, length, modes]\n",
    "    # List contains all kinds of modes of transport (car, pt)\n",
    "    link.append(items_)\n",
    "    # List contains only cars(car and pt,car)\n",
    "    if (modes == 'pt,car') | (modes == 'car') :\n",
    "        c = [id_nb, start, end, length, 'CAR']\n",
    "        car.append(c)      "
   ]
  },
  {
   "cell_type": "code",
   "execution_count": 20,
   "id": "5bf97d67",
   "metadata": {},
   "outputs": [
    {
     "data": {
      "text/plain": [
       "31177"
      ]
     },
     "execution_count": 20,
     "metadata": {},
     "output_type": "execute_result"
    }
   ],
   "source": [
    "len(link)"
   ]
  },
  {
   "cell_type": "markdown",
   "id": "b5f85f97",
   "metadata": {},
   "source": [
    "### Test of first 10 lines of link"
   ]
  },
  {
   "cell_type": "code",
   "execution_count": 8,
   "id": "f15ffd9c",
   "metadata": {},
   "outputs": [],
   "source": [
    "# Create two lists\n",
    "items_ = []\n",
    "link = []\n",
    "car = []\n",
    "c = []\n",
    "# Iterate through the root node to get the child node\n",
    "counter = 0\n",
    "for l in root.iter('link') :\n",
    "    counter+=1\n",
    "    if counter <= 10 :\n",
    "        id_nb = l.attrib.get('id')\n",
    "        start = l.attrib.get('from')\n",
    "        end = l.attrib.get('to')\n",
    "        length = l.attrib.get('length')\n",
    "        modes = l.attrib.get('modes')\n",
    "        items_ = [id_nb, start, end, length, modes]\n",
    "        # List contains all kinds of modes of transport (car, pt)\n",
    "        link.append(items_)\n",
    "        # List contains only cars(car and pt,car)\n",
    "        if (modes == 'pt,car') | (modes == 'car') :\n",
    "            c = [id_nb, start, end, length, 'CAR']\n",
    "            car.append(c)\n",
    "    else :\n",
    "        break"
   ]
  },
  {
   "cell_type": "markdown",
   "id": "7516ffac-37a8-48e5-9b6d-18ad81c910f1",
   "metadata": {},
   "source": [
    "### **Dictionary and Json file**"
   ]
  },
  {
   "cell_type": "code",
   "execution_count": 19,
   "id": "f828d33f-e293-44a3-9a6a-d2dcbcf3a61e",
   "metadata": {},
   "outputs": [],
   "source": [
    "# Empty nested dictionary\n",
    "Network = { 'ROADS': {'NODES': {}, 'STOPS': {}, 'SECTIONS': {}, 'ZONES': {} },\n",
    "         'LAYERS': [{}], 'TRANSIT': [] }"
   ]
  },
  {
   "cell_type": "code",
   "execution_count": 20,
   "id": "97ea27b9",
   "metadata": {},
   "outputs": [],
   "source": [
    "# Initialisation the first position of 'LAYERS'\n",
    "Network['LAYERS'][0] = {'ID' : 'CAR', 'TYPE' : 'mnms.graph.layers.CarLayer',  'VEH_TYPE': 'mnms.vehicles.veh_type.Car',\n",
    "    'DEFAULT_SPEED': 13.8,  'SERVICES': [], 'NODES': [], 'LINKS': [], 'MAP_ROADDB': {'NODES' : {}, 'LINKS' : {}}}"
   ]
  },
  {
   "cell_type": "code",
   "execution_count": 21,
   "id": "ca1ac6f4",
   "metadata": {},
   "outputs": [],
   "source": [
    "# Initialisation "
   ]
  },
  {
   "cell_type": "code",
   "execution_count": 22,
   "id": "7107745a-fd35-4f39-88bc-8f7710c10775",
   "metadata": {},
   "outputs": [],
   "source": [
    "for part,info in Network.items() :\n",
    "    if part == 'ROADS' :\n",
    "        for key in info :\n",
    "            if key == 'NODES' :  # Nodes part\n",
    "                for i in range(len(node)) :\n",
    "                    id_node = node[i][0]\n",
    "                    x = float(node[i][1])\n",
    "                    y = float(node[i][2])\n",
    "                    info[key][id_node] = {}\n",
    "                    info[key][id_node]['id'] = id_node\n",
    "                    info[key][id_node]['position'] = [x,y]\n",
    "            if key == 'SECTIONS' : # Sections part\n",
    "                for i in range(len(link)) :\n",
    "                    id_section = link[i][0]\n",
    "                    upstream = link[i][1]\n",
    "                    downstream = link[i][2]\n",
    "                    length = float(link[i][3])\n",
    "                    zone = 'RES'\n",
    "                    info[key][id_section] = {'id' : id_section, 'upstream' : upstream, 'downstream' : downstream, 'length' : length, 'zone' : zone}\n",
    "               # Stops part ......\n",
    "            if key == 'ZONES' : # Zones part\n",
    "                info[key]['RES'] = {}\n",
    "                info[key]['RES']['id'] = 'RES'\n",
    "                info[key]['RES']['sections'] = []\n",
    "                info[key]['RES']['contour'] = [[xmin, ymin],[xmin, ymax], [xmax, ymin], [xmax, ymax]]\n",
    "                for i in range(len(link)) :\n",
    "                    id_section = link[i][0]\n",
    "                    info[key]['RES']['sections'].append(id_section)\n",
    "    if part == 'LAYERS' :\n",
    "        \n",
    "        # Car layer (first {})\n",
    "        for key,value in  Network['LAYERS'][0].items() :\n",
    "            if key == 'NODES' :\n",
    "                for i in range(len(node)) :\n",
    "                    ID = node[i][0]\n",
    "                    X = float(node[i][1])\n",
    "                    Y = float(node[i][2])\n",
    "                    value.append({'ID' : ID, 'X' : X, 'Y' : Y, 'LABEL' : 'CAR', 'EXCLUDE_MOVEMENTS' : {}})\n",
    "            if key == 'LINKS' :\n",
    "                for i in range(len(car)) :\n",
    "                    ID = car[i][0]\n",
    "                    upstream = car[i][1]\n",
    "                    downstream = car[i][2]\n",
    "                    length = float(car[i][3])\n",
    "                    label = car[i][4]\n",
    "                    value.append({'ID' : ID, 'UPSTREAM': upstream, 'DOWNSTREAM' : downstream, 'COSTS' : {'length' : length}, 'LABEL' : label})\n",
    "            if key == 'MAP_ROADDB' :\n",
    "                for k,v in Network['LAYERS'][0]['MAP_ROADDB'].items() :\n",
    "                    # Key = 'NODES'\n",
    "                    if k == 'NODES' :\n",
    "                        for i in range(len(node)) :\n",
    "                            ID_node = node[i][0]  # Get node ID\n",
    "                            v[ID_node] = ID_node\n",
    "                    # Key = 'LINKS'\n",
    "                    if k == 'LINKS' :\n",
    "                        for i in range(len(car)) :\n",
    "                            ID_link = car[i][0] # Get link ID\n",
    "                            v[ID_link] = [ID_link]\n",
    "                            \n",
    "  #  if part == 'TRANSIT' :\n",
    "   #     for i in range(len(car)) :\n",
    "    #        ID = car[i][0]\n",
    "     #       upstream = car[i][1]\n",
    "      #      downstream = car[i][2]\n",
    "      #      length = float(car[i][3])\n",
    "       #     label = car[i][4]\n",
    "        #    info.append({'ID' : ID, 'UPSTREAM': upstream, 'DOWNSTREAM' : downstream, 'LENGTH' : length,  'COSTS' : {'length' : length}, 'LABEL' : label})\n",
    "            \n",
    "        "
   ]
  },
  {
   "cell_type": "code",
   "execution_count": 23,
   "id": "47f863e3-0aaf-4a0f-88de-811474c01a5c",
   "metadata": {},
   "outputs": [],
   "source": [
    "# Serializing json  \n",
    "json_object = json.dumps(Network, indent = 4) "
   ]
  },
  {
   "cell_type": "code",
   "execution_count": 14,
   "id": "2342e53c-5115-419e-b7e7-58998decb5cb",
   "metadata": {},
   "outputs": [],
   "source": [
    "#print(json_object)"
   ]
  },
  {
   "cell_type": "code",
   "execution_count": 15,
   "id": "57aebe80-e2b5-4411-bdc4-60242e0d8c58",
   "metadata": {},
   "outputs": [],
   "source": [
    "# Writing to network.json\n",
    "with open(\"network.json\", \"w\") as outfile:\n",
    "    outfile.write(json_object)"
   ]
  },
  {
   "cell_type": "code",
   "execution_count": 16,
   "id": "f6cb9573-2434-4cec-982b-c6461684f27a",
   "metadata": {},
   "outputs": [],
   "source": [
    "with open(\"test_network.json\", \"w\") as outfile:\n",
    "    outfile.write(json_object)"
   ]
  },
  {
   "cell_type": "code",
   "execution_count": 17,
   "id": "961b507c",
   "metadata": {},
   "outputs": [],
   "source": [
    "with open(\"new_network.json\", \"w\") as outfile:\n",
    "    outfile.write(json_object)"
   ]
  },
  {
   "cell_type": "code",
   "execution_count": 24,
   "id": "ce7d1117",
   "metadata": {},
   "outputs": [],
   "source": [
    "with open(\"demon_network.json\", \"w\") as outfile:\n",
    "    outfile.write(json_object)"
   ]
  },
  {
   "cell_type": "code",
   "execution_count": null,
   "id": "111720c0",
   "metadata": {},
   "outputs": [],
   "source": []
  }
 ],
 "metadata": {
  "kernelspec": {
   "display_name": "Python 3 (ipykernel)",
   "language": "python",
   "name": "python3"
  },
  "language_info": {
   "codemirror_mode": {
    "name": "ipython",
    "version": 3
   },
   "file_extension": ".py",
   "mimetype": "text/x-python",
   "name": "python",
   "nbconvert_exporter": "python",
   "pygments_lexer": "ipython3",
   "version": "3.9.12"
  }
 },
 "nbformat": 4,
 "nbformat_minor": 5
}
