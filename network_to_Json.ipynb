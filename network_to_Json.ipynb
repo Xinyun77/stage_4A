{
 "cells": [
  {
   "cell_type": "code",
   "execution_count": 44,
   "id": "74beafa5-60e2-4e57-aa85-175ad1de558d",
   "metadata": {},
   "outputs": [],
   "source": [
    "# coding: utf-8\n",
    "import xml.etree.ElementTree as ETree\n",
    "import pandas as pd\n",
    "import json "
   ]
  },
  {
   "cell_type": "code",
   "execution_count": 45,
   "id": "1e54e509-d02c-46b6-a381-02ffb85f41f8",
   "metadata": {},
   "outputs": [],
   "source": [
    "# Read xml\n",
    "nodeData = '/Users/xinyun/Documents/data/Network.xml'\n",
    "prstree = ETree.parse(nodeData)\n",
    "root = prstree.getroot()"
   ]
  },
  {
   "cell_type": "markdown",
   "id": "c6e4a911-2dcc-4a12-8338-71ec3e947d5a",
   "metadata": {},
   "source": [
    "### **Get 2D list of node** "
   ]
  },
  {
   "cell_type": "code",
   "execution_count": 46,
   "id": "f2d4093f-f74b-41f8-8ede-7baea81cf637",
   "metadata": {},
   "outputs": [],
   "source": [
    "# Create two lists\n",
    "items = []\n",
    "node = []\n",
    "\n",
    "# Iterate through the root node to get the child node \n",
    "for n in root.iter('node') :\n",
    "    id_nb = n.attrib.get('id')\n",
    "    x = n.attrib.get('x')\n",
    "    y = n.attrib.get('y')\n",
    "    \n",
    "    items = [id_nb, x, y]   # Create a list for each row\n",
    "    node.append(items)"
   ]
  },
  {
   "cell_type": "markdown",
   "id": "cc427a12-1c74-44fe-bd64-d03bc48c3263",
   "metadata": {},
   "source": [
    "### **Get 2D list of link** "
   ]
  },
  {
   "cell_type": "code",
   "execution_count": 47,
   "id": "140197d9-d059-4d6d-bf51-3d620ef0e49e",
   "metadata": {},
   "outputs": [],
   "source": [
    "# Create two lists\n",
    "items_ = []\n",
    "link = []\n",
    "car = []\n",
    "c = []\n",
    "# Iterate through the root node to get the child node\n",
    "for l in root.iter('link') :\n",
    "    id_nb = l.attrib.get('id')\n",
    "    start = l.attrib.get('from')\n",
    "    end = l.attrib.get('to')\n",
    "    length = l.attrib.get('length')\n",
    "    modes = l.attrib.get('modes')\n",
    "    items_ = [id_nb, start, end, length, modes]\n",
    "    # List contains all kinds of modes of transport (car, pt)\n",
    "    link.append(items_)\n",
    "    # List contains only cars(car and pt,car)\n",
    "    if (modes == 'pt,car') | (modes == 'car') :\n",
    "        c = [id_nb, start, end, length, modes]\n",
    "        car.append(c)      "
   ]
  },
  {
   "cell_type": "markdown",
   "id": "7516ffac-37a8-48e5-9b6d-18ad81c910f1",
   "metadata": {},
   "source": [
    "### **Dictionary and Json file**"
   ]
  },
  {
   "cell_type": "code",
   "execution_count": 108,
   "id": "f828d33f-e293-44a3-9a6a-d2dcbcf3a61e",
   "metadata": {},
   "outputs": [
    {
     "ename": "IndentationError",
     "evalue": "unexpected indent (2617970406.py, line 5)",
     "output_type": "error",
     "traceback": [
      "\u001b[0;36m  Input \u001b[0;32mIn [108]\u001b[0;36m\u001b[0m\n\u001b[0;31m    Network['LAYERS'][0] = {'ID' : 'CAR', 'TYPE' : 'mnms.graph.layers.CarLayer',  'VEH_TYPE': 'mnms.vehicles.veh_type.Car',\u001b[0m\n\u001b[0m    ^\u001b[0m\n\u001b[0;31mIndentationError\u001b[0m\u001b[0;31m:\u001b[0m unexpected indent\n"
     ]
    }
   ],
   "source": [
    "# Empty nested dictionary\n",
    "Network = { 'ROADS': {'NODES': {}, 'STOPS': {}, 'SECTIONS': {} },\n",
    "         'LAYERS': [{},{},{},{}]}\n",
    "# Initialisation the first position of 'LY'\n",
    " Network['LAYERS'][0] = {'ID' : 'CAR', 'TYPE' : 'mnms.graph.layers.CarLayer',  'VEH_TYPE': 'mnms.vehicles.veh_type.Car',\n",
    "    'DEFAULT_SPEED': 13.8,  'SERVICES': [], 'NODES': [], 'LINKS': [], 'MAP_ROADDB': {'NODES' : {}, 'LINKS' : {}}}"
   ]
  },
  {
   "cell_type": "code",
   "execution_count": 106,
   "id": "7107745a-fd35-4f39-88bc-8f7710c10775",
   "metadata": {},
   "outputs": [],
   "source": [
    "for part,info in Network.items() :\n",
    "    if part == 'ROADS' :\n",
    "        for key in info :\n",
    "            if key == 'NODES' :  # Nodes part\n",
    "                for i in range(len(node)) :\n",
    "                    id_node = node[i][0]\n",
    "                    x = float(node[i][1])\n",
    "                    y = float(node[i][2])\n",
    "                    info[key][id_node] = [x,y]\n",
    "            if key == 'SECTIONS' : # Sections part\n",
    "                for i in range(len(link)) :\n",
    "                    id_section = link[i][0]\n",
    "                    upstream = link[i][1]\n",
    "                    downstream = link[i][2]\n",
    "                    length = float(link[i][3])\n",
    "                    zone = 'RES'\n",
    "                    info[key][id_section] = {'upstream' : upstream, 'downstream' : downstream, 'length' : length, 'zone' : zone}\n",
    "               # Stops part ......\n",
    "    if part == 'LAYERS' :\n",
    "        # Car layer (first {})\n",
    "        \n",
    "        for key,value in  Network['LAYERS'][0].items() :\n",
    "            if key == 'NODES' :\n",
    "                for i in range(len(node)) :\n",
    "                    ID = node[i][0]\n",
    "                    X = float(node[i][1])\n",
    "                    Y = float(node[i][2])\n",
    "                    value.append({'ID' : ID, 'X' : X, 'Y' : Y, 'LABEL' : 'CAR', 'EXCLUDE_MOVEMENTS' : {}})\n",
    "            if key == 'LINKS' :\n",
    "                for i in range(len(car)) :\n",
    "                    ID = car[i][0]\n",
    "                    upstream = car[i][1]\n",
    "                    downstream = car[i][2]\n",
    "                    length = float(car[i][3])\n",
    "                    value.append({'ID' : ID, 'UPSTREAM': upstream, 'DOWNSTREAM' : downstream, 'COSTS' : {'length' : length}, 'LABEL' : 'CAR'})\n",
    "            if key == 'MAP_ROADDB' :\n",
    "                for k,v in Network['LAYERS'][0]['MAP_ROADDB'].items() :\n",
    "                    # Key = 'NODES'\n",
    "                    if k == 'NODES' :\n",
    "                        for i in range(len(node)) :\n",
    "                            ID_node = node[i][0]  # Get node ID\n",
    "                            v[ID_node] = ID_node\n",
    "                    # Key = 'LINKS'\n",
    "                    if k == 'LINKS' :\n",
    "                        for i in range(len(car)) :\n",
    "                            ID_link = car[i][0] # Get link ID\n",
    "                            v[ID_link] = [ID_link]\n",
    "        "
   ]
  },
  {
   "cell_type": "code",
   "execution_count": 103,
   "id": "47f863e3-0aaf-4a0f-88de-811474c01a5c",
   "metadata": {},
   "outputs": [],
   "source": [
    "# Serializing json  \n",
    "json_object = json.dumps(Network, indent = 4) "
   ]
  },
  {
   "cell_type": "code",
   "execution_count": 21,
   "id": "2342e53c-5115-419e-b7e7-58998decb5cb",
   "metadata": {},
   "outputs": [],
   "source": [
    "#print(json_object)"
   ]
  },
  {
   "cell_type": "code",
   "execution_count": 104,
   "id": "57aebe80-e2b5-4411-bdc4-60242e0d8c58",
   "metadata": {},
   "outputs": [],
   "source": [
    "# Writing to network.json\n",
    "with open(\"network.json\", \"w\") as outfile:\n",
    "    outfile.write(json_object)"
   ]
  },
  {
   "cell_type": "code",
   "execution_count": null,
   "id": "f6cb9573-2434-4cec-982b-c6461684f27a",
   "metadata": {},
   "outputs": [],
   "source": []
  }
 ],
 "metadata": {
  "kernelspec": {
   "display_name": "Python 3 (ipykernel)",
   "language": "python",
   "name": "python3"
  },
  "language_info": {
   "codemirror_mode": {
    "name": "ipython",
    "version": 3
   },
   "file_extension": ".py",
   "mimetype": "text/x-python",
   "name": "python",
   "nbconvert_exporter": "python",
   "pygments_lexer": "ipython3",
   "version": "3.9.12"
  }
 },
 "nbformat": 4,
 "nbformat_minor": 5
}
