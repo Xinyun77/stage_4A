{
 "cells": [
  {
   "cell_type": "markdown",
   "id": "7055c59c",
   "metadata": {},
   "source": [
    "#  Working file :  demand file for 7h-9h"
   ]
  },
  {
   "cell_type": "markdown",
   "id": "d5ef4883",
   "metadata": {},
   "source": [
    "###  As I put at the beginning, all users into MnMs and I got only 60% even less users in the outputs of simulation, also, the previous simulation area was too large. Therefore, I needed to focus only on the city of Amsterdam so that we could  reduce significantly the calculate time, that's why I wanted to try in this part to find a way to project all users on the ring road around the city of Amsterdam. \n",
    "\n",
    "### We can see the new simulation area via 'simulation/figure/demand_Amsterdam.png'\n",
    "\n",
    "### In this part I used the endpoints of simulation area that I've defined in the previous work\n",
    "\n",
    "### - xmin : 625017.9576056905 <=> 52.32518282260862\n",
    "### - ymin : 5798791.299367087 <=> 4.834477934348526\n",
    "### - xmax : 634641.3677946266 <=> 52.42619306976802\n",
    "### - ymax : 5810286.725571055 <=> 4.980217278228295"
   ]
  },
  {
   "cell_type": "code",
   "execution_count": 32,
   "id": "655b7525",
   "metadata": {},
   "outputs": [],
   "source": [
    "import pandas as pd\n",
    "import numpy as np\n",
    "import os\n",
    "import itertools\n",
    "import random\n",
    "import utm"
   ]
  },
  {
   "cell_type": "markdown",
   "id": "5a79db59",
   "metadata": {},
   "source": [
    "## Visualize the missing users after the simulation for 9h-11h"
   ]
  },
  {
   "cell_type": "markdown",
   "id": "25b1ca83",
   "metadata": {},
   "source": [
    "### Example with the outputs of simulation for 9h-11h"
   ]
  },
  {
   "cell_type": "code",
   "execution_count": 42,
   "id": "3c8b01a1",
   "metadata": {},
   "outputs": [],
   "source": [
    "input_path1 = os.getcwd() + \"/OUTPUTS_9h_11h/path.csv\"  # outputs path of simulation between 9h-11h\n",
    "input_path2 = os.getcwd() + \"/INPUTS/test_9h_11h.csv\"   # inputs of simulation between 9h-11h\n",
    "Output = pd.read_csv(input_path1, delimiter = ';')\n",
    "Input = pd.read_csv(input_path2, delimiter = ';')\n",
    "listID_in = Input['ID'].tolist()\n",
    "listID_out = Output['ID'].tolist()"
   ]
  },
  {
   "cell_type": "code",
   "execution_count": 43,
   "id": "7209e0b4",
   "metadata": {},
   "outputs": [],
   "source": [
    "# function takes two lists as input\n",
    "# returns the different part of two list\n",
    "def diff(l1, l2):   # return a list of lost users\n",
    "    difference = list(set(l1).symmetric_difference(set(l2)))\n",
    "    return difference"
   ]
  },
  {
   "cell_type": "code",
   "execution_count": 35,
   "id": "31b630ff",
   "metadata": {},
   "outputs": [],
   "source": [
    "# function takes as inputs the list of input, output and the input dataframe\n",
    "# returns the list of missing users in the output\n",
    "def missingData(inputDataframe, listID_in, listID_out):\n",
    "    missing = diff(listID_in, listID_out)\n",
    "    indexUser = [Input.index[Input['ID'] == i].tolist() for i in missing]  # index of missing users\n",
    "    indexUser = list(itertools.chain.from_iterable(indexUser))\n",
    "    return Input.iloc[indexUser]"
   ]
  },
  {
   "cell_type": "code",
   "execution_count": 39,
   "id": "87974924",
   "metadata": {},
   "outputs": [
    {
     "data": {
      "text/html": [
       "<div>\n",
       "<style scoped>\n",
       "    .dataframe tbody tr th:only-of-type {\n",
       "        vertical-align: middle;\n",
       "    }\n",
       "\n",
       "    .dataframe tbody tr th {\n",
       "        vertical-align: top;\n",
       "    }\n",
       "\n",
       "    .dataframe thead th {\n",
       "        text-align: right;\n",
       "    }\n",
       "</style>\n",
       "<table border=\"1\" class=\"dataframe\">\n",
       "  <thead>\n",
       "    <tr style=\"text-align: right;\">\n",
       "      <th></th>\n",
       "      <th>ID</th>\n",
       "      <th>DEPARTURE</th>\n",
       "      <th>ORIGIN</th>\n",
       "      <th>DESTINATION</th>\n",
       "    </tr>\n",
       "  </thead>\n",
       "  <tbody>\n",
       "    <tr>\n",
       "      <th>9930</th>\n",
       "      <td>917515</td>\n",
       "      <td>09:18:14</td>\n",
       "      <td>613738.9128652506 5818141.26617263</td>\n",
       "      <td>629243.7397205335 5804437.454238096</td>\n",
       "    </tr>\n",
       "    <tr>\n",
       "      <th>43780</th>\n",
       "      <td>917515</td>\n",
       "      <td>10:53:12</td>\n",
       "      <td>629243.7397205335 5804437.454238096</td>\n",
       "      <td>613738.9128652506 5818141.26617263</td>\n",
       "    </tr>\n",
       "    <tr>\n",
       "      <th>13668</th>\n",
       "      <td>983051</td>\n",
       "      <td>09:25:17</td>\n",
       "      <td>630285.1689666857 5823722.328112848</td>\n",
       "      <td>631435.8993262072 5823049.13385241</td>\n",
       "    </tr>\n",
       "    <tr>\n",
       "      <th>4350</th>\n",
       "      <td>1048595</td>\n",
       "      <td>09:07:52</td>\n",
       "      <td>622015.0947725042 5773928.925534364</td>\n",
       "      <td>626851.9692397028 5803852.636913614</td>\n",
       "    </tr>\n",
       "    <tr>\n",
       "      <th>31168</th>\n",
       "      <td>589845</td>\n",
       "      <td>10:24:39</td>\n",
       "      <td>691913.3587404573 5762532.257194359</td>\n",
       "      <td>687412.3284794632 5761766.715623426</td>\n",
       "    </tr>\n",
       "    <tr>\n",
       "      <th>...</th>\n",
       "      <td>...</td>\n",
       "      <td>...</td>\n",
       "      <td>...</td>\n",
       "      <td>...</td>\n",
       "    </tr>\n",
       "    <tr>\n",
       "      <th>9813</th>\n",
       "      <td>786404</td>\n",
       "      <td>09:18:01</td>\n",
       "      <td>639430.1537932879 5778427.223724365</td>\n",
       "      <td>642672.2692429221 5773995.791650763</td>\n",
       "    </tr>\n",
       "    <tr>\n",
       "      <th>25632</th>\n",
       "      <td>786404</td>\n",
       "      <td>10:09:22</td>\n",
       "      <td>642672.2692429221 5773995.791650763</td>\n",
       "      <td>639430.1537932879 5778427.223724365</td>\n",
       "    </tr>\n",
       "    <tr>\n",
       "      <th>11929</th>\n",
       "      <td>1114103</td>\n",
       "      <td>09:21:59</td>\n",
       "      <td>634526.9620972774 5798128.515459549</td>\n",
       "      <td>607382.294792387 5756226.626322996</td>\n",
       "    </tr>\n",
       "    <tr>\n",
       "      <th>15049</th>\n",
       "      <td>917501</td>\n",
       "      <td>09:28:00</td>\n",
       "      <td>612791.2251259275 5818655.7754812995</td>\n",
       "      <td>629088.1051609886 5803890.015116696</td>\n",
       "    </tr>\n",
       "    <tr>\n",
       "      <th>27341</th>\n",
       "      <td>917501</td>\n",
       "      <td>10:14:32</td>\n",
       "      <td>629088.1051609886 5803890.015116696</td>\n",
       "      <td>612791.2251259275 5818655.7754812995</td>\n",
       "    </tr>\n",
       "  </tbody>\n",
       "</table>\n",
       "<p>15300 rows × 4 columns</p>\n",
       "</div>"
      ],
      "text/plain": [
       "            ID DEPARTURE                                ORIGIN  \\\n",
       "9930    917515  09:18:14    613738.9128652506 5818141.26617263   \n",
       "43780   917515  10:53:12   629243.7397205335 5804437.454238096   \n",
       "13668   983051  09:25:17   630285.1689666857 5823722.328112848   \n",
       "4350   1048595  09:07:52   622015.0947725042 5773928.925534364   \n",
       "31168   589845  10:24:39   691913.3587404573 5762532.257194359   \n",
       "...        ...       ...                                   ...   \n",
       "9813    786404  09:18:01   639430.1537932879 5778427.223724365   \n",
       "25632   786404  10:09:22   642672.2692429221 5773995.791650763   \n",
       "11929  1114103  09:21:59   634526.9620972774 5798128.515459549   \n",
       "15049   917501  09:28:00  612791.2251259275 5818655.7754812995   \n",
       "27341   917501  10:14:32   629088.1051609886 5803890.015116696   \n",
       "\n",
       "                                DESTINATION  \n",
       "9930    629243.7397205335 5804437.454238096  \n",
       "43780    613738.9128652506 5818141.26617263  \n",
       "13668    631435.8993262072 5823049.13385241  \n",
       "4350    626851.9692397028 5803852.636913614  \n",
       "31168   687412.3284794632 5761766.715623426  \n",
       "...                                     ...  \n",
       "9813    642672.2692429221 5773995.791650763  \n",
       "25632   639430.1537932879 5778427.223724365  \n",
       "11929    607382.294792387 5756226.626322996  \n",
       "15049   629088.1051609886 5803890.015116696  \n",
       "27341  612791.2251259275 5818655.7754812995  \n",
       "\n",
       "[15300 rows x 4 columns]"
      ]
     },
     "execution_count": 39,
     "metadata": {},
     "output_type": "execute_result"
    }
   ],
   "source": [
    "# missing users \n",
    "df_missing = missingData(Input, listID_in, listID_out)  \n",
    "df_missing"
   ]
  },
  {
   "cell_type": "code",
   "execution_count": 14,
   "id": "3c2b8dc4",
   "metadata": {},
   "outputs": [],
   "source": [
    "# Je l'ai pas utilisé finalement \n",
    "def bounding(df):\n",
    "    O = df.ORIGIN.tolist()  \n",
    "    D = df.DESTINATION.tolist()\n",
    "    l = O + D  # Concatenate 2 2D lists\n",
    "    coord = np.array([x.split() for x in l])\n",
    "    Xmin = min(float(x[0]) for x in coord)\n",
    "    Ymin = min(float(x[1]) for x in coord)\n",
    "    Xmax = max(float(x[0]) for x in coord)\n",
    "    Ymax = max(float(x[1]) for x in coord)\n",
    "    return Xmin, Xmax, Ymin, Ymax"
   ]
  },
  {
   "cell_type": "markdown",
   "id": "f8f9bea9",
   "metadata": {},
   "source": [
    "## Project users on the ring road of Amsterdam"
   ]
  },
  {
   "cell_type": "code",
   "execution_count": 18,
   "id": "4b00ea57",
   "metadata": {},
   "outputs": [],
   "source": [
    "# function takes a dataframe of demand as input\n",
    "# returns the percentage of users' origin and destination points that are inside or outside the simulation area\n",
    "def in_out_city(df):\n",
    "    O = df.ORIGIN.tolist()  \n",
    "    D = df.DESTINATION.tolist()\n",
    "    ID = df.ID.tolist()  ## no use\n",
    "    array_O = np.array([x.split() for x in O])\n",
    "    array_D = np.array([x.split() for x in D])\n",
    "    coord_O = array_O.astype(float)\n",
    "    coord_D = array_D.astype(float)\n",
    "    (xmin, ymin, xmax, ymax) = (625017.9576056905, 5798791.299367087, 634641.3677946266, 5810286.725571055)\n",
    "    In = lambda x, y : x <= xmax and x >= xmin and y <= ymax and y>= ymin  # if between xmin and xmax\n",
    "    Out = lambda x, y : x > xmax or x < xmin or y > ymax or y < ymin   # if not\n",
    "    (in_in, in_out, out_in, out_out) = (0, 0, 0, 0)\n",
    "    for i in range(len(O)):\n",
    "        if In(coord_O[i][0], coord_O[i][1]) & In(coord_D[i][0], coord_D[i][1]):\n",
    "            in_in+=1\n",
    "        elif In(coord_O[i][0], coord_O[i][1]) & Out(coord_D[i][0], coord_D[i][1]):\n",
    "            in_out+=1\n",
    "        elif Out(coord_O[i][0], coord_O[i][1]) & In(coord_D[i][0], coord_D[i][1]):\n",
    "            out_in+=1\n",
    "        elif Out(coord_O[i][0], coord_O[i][1]) & Out(coord_D[i][0], coord_D[i][1]):\n",
    "            out_out+=1\n",
    "    per_in_in = (in_in / len(df))*100\n",
    "    per_in_out = (in_out / len(df))*100\n",
    "    per_out_in = (out_in / len(df))*100\n",
    "    per_out_out = (out_out / len(df))*100\n",
    "    sum_out = in_out + out_in + out_out\n",
    "    return per_in_in, per_in_out, per_out_in, per_out_out, sum_out"
   ]
  },
  {
   "cell_type": "code",
   "execution_count": 19,
   "id": "68c6a5e3",
   "metadata": {},
   "outputs": [],
   "source": [
    "# funciton takes a list og coordinates as input\n",
    "# returns a list of coordinates converted from lat lon to utm\n",
    "def get_utm(l):\n",
    "    return [[utm.from_latlon(i[0], i[1])[0], utm.from_latlon(i[0], i[1])[1]] for i in l]"
   ]
  },
  {
   "cell_type": "code",
   "execution_count": 20,
   "id": "a1b60c5a",
   "metadata": {},
   "outputs": [],
   "source": [
    "# function takes as input coordinates of 2 points\n",
    "# returns the distance between this 2 points\n",
    "def distanceSquare(x1, y1, x2, y2):\n",
    "    return (x1 - x2)**2 + (y1 - y2)**2"
   ]
  },
  {
   "cell_type": "code",
   "execution_count": 21,
   "id": "f44768bc",
   "metadata": {},
   "outputs": [],
   "source": [
    "# function takes the list of highway coordinates and the coordinates of a point (x,y) as input\n",
    "# return the nearest highway point to (x,y)\n",
    "def nearest_highway(highway, x, y):\n",
    "    h = get_utm(l)    # turn latlong to utm\n",
    "    dist = [distanceSquare(x, y, i[0], i[1]) for i in h]\n",
    "    minpos = dist.index(min(dist))  # get index of minimum distance\n",
    "    return (h[minpos][0], h[minpos][1])"
   ]
  },
  {
   "cell_type": "markdown",
   "id": "92b8ef0d",
   "metadata": {},
   "source": [
    "### Modifie the departure or destination coordinates of users"
   ]
  },
  {
   "cell_type": "code",
   "execution_count": 23,
   "id": "e46356f9",
   "metadata": {},
   "outputs": [],
   "source": [
    "# function takes a dataframe of demand as input\n",
    "# returns dataframe of demand modified by projecting users' departure or arrival point on the ring road\n",
    "def all_in_city(df):\n",
    "    O = df.ORIGIN.tolist()  \n",
    "    D = df.DESTINATION.tolist()\n",
    "    ID = df.ID.tolist()\n",
    "    Departure = df.DEPARTURE.tolist()\n",
    "    Service = df.SERVICE.tolist()\n",
    "    l_O = [x.split() for x in O]\n",
    "    l_D = [x.split() for x in D]\n",
    "    # 7 points on the ring road of the city of Amsterdam\n",
    "    highway = [[52.32791994290011, 4.913239361372001], [52.348521124104536, 4.969982909959437], [52.38911039306189, 4.967560455680146],\n",
    "    [52.40771996733094, 4.938153295847306], [52.4233956111038, 4.877273846428637], \n",
    "     [52.3960595030744, 4.844561046121149], [52.3841084139694, 4.8444926286081955], [52.338567002294766, 4.841697415785518]]\n",
    "    index = []\n",
    "    # endpoints of the simulation area\n",
    "    (xmin, ymin, xmax, ymax) = (625017.9576056905, 5798791.299367087, 634641.3677946266, 5810286.725571055)\n",
    "    In = lambda x, y : x <= xmax and x >= xmin and y <= ymax and y>= ymin  # if between xmin and xmax\n",
    "    Out = lambda x, y : x > xmax or x < xmin or y > ymax or y < ymin   # if not\n",
    "    remove = lambda l : [l.pop(x) for x in sorted(index, reverse = True)]\n",
    "    combine = lambda l : ['%s %s' % (l[x][0], l[x][1]) for x in range(len(l))]\n",
    "    for i in range(len(l_O)):\n",
    "        # if one of the departure or arrival point is outside the city area\n",
    "        if not (In(float(l_O[i][0]), float(l_O[i][1])) & In(float(l_D[i][0]), float(l_D[i][1]))):\n",
    "            # if departure point is inside and arrival point is outside the city area\n",
    "            if In(float(l_O[i][0]), float(l_O[i][1])) & Out(float(l_D[i][0]), float(l_D[i][1])):\n",
    "                (X, Y) = nearest_highway(highway, float(l_D[i][0]),  float(l_D[i][1]))\n",
    "                l_D[i][0] = str(X)\n",
    "                l_D[i][1] = str(Y)\n",
    "            # if departure point is outside and arrival point is inside the city area\n",
    "            elif Out(float(l_O[i][0]), float(l_O[i][1])) & In(float(l_D[i][0]), float(l_D[i][1])):\n",
    "                (X, Y) = nearest_highway(highway, float(l_O[i][0]),  float(l_O[i][1]))\n",
    "                l_O[i][0] = str(X)\n",
    "                l_O[i][1] = str(Y)\n",
    "            # if both departure and arrival points are outside the city area\n",
    "            else:        # out_out -> remove all\n",
    "                index.append(i)\n",
    "    remove(ID)\n",
    "    remove(l_O) \n",
    "    remove(l_D)\n",
    "    remove(Departure)\n",
    "    remove(Service)\n",
    "    l_O = combine(l_O)\n",
    "    l_D = combine(l_D)\n",
    "    tmp = list(zip(ID, Departure, l_O, l_D, Service))\n",
    "    df = pd.DataFrame(tmp, columns = ['ID', 'DEPARTURE', 'ORIGIN', 'DESTINATION', 'SERVICE'])\n",
    "    return df"
   ]
  },
  {
   "cell_type": "markdown",
   "id": "8f2c4915",
   "metadata": {},
   "source": [
    "## Modify the demand for 7h-9h and use this demand for the simulation"
   ]
  },
  {
   "cell_type": "markdown",
   "id": "d4ec02f7",
   "metadata": {},
   "source": [
    "### The origin demand and the percentage of inside, outside the city area"
   ]
  },
  {
   "cell_type": "code",
   "execution_count": 45,
   "id": "d5398767",
   "metadata": {},
   "outputs": [
    {
     "name": "stdout",
     "output_type": "stream",
     "text": [
      "in_in_city : 24% in_out_city : 11% out_in_city : 15% out_out_city : 50% sum_out : 14496\n"
     ]
    }
   ],
   "source": [
    "# show the test_7h_9h.csv \n",
    "test_7h_9h = pd.read_csv('/Users/xinyun/Documents/Stage4A/demand/test_7h_9h.csv', delimiter = ';')\n",
    "(a,b,c,d,e) = in_out_city(test_7h_9h)\n",
    "print(\"in_in_city :\", \"{0:.0f}%\".format(a), \"in_out_city :\", \"{0:.0f}%\".format(b), \"out_in_city :\", \"{0:.0f}%\".format(c), \"out_out_city :\",\"{0:.0f}%\".format(d), \"sum_out :\", e)"
   ]
  },
  {
   "cell_type": "markdown",
   "id": "b3931746",
   "metadata": {},
   "source": [
    "### The modified demand and the percentage of inside, outside the city area"
   ]
  },
  {
   "cell_type": "code",
   "execution_count": 46,
   "id": "a16e88fb",
   "metadata": {},
   "outputs": [
    {
     "name": "stdout",
     "output_type": "stream",
     "text": [
      "in_in_city : 100% in_out_city : 0% out_in_city : 0% out_out_city : 0% sum_out : 0\n"
     ]
    }
   ],
   "source": [
    "test_all_in = all_in_city(test_7h_9h)\n",
    "(a,b,c,d,e) = in_out_city(test_all_in)\n",
    "print(\"in_in_city :\", \"{0:.0f}%\".format(a), \"in_out_city :\", \"{0:.0f}%\".format(b), \"out_in_city :\", \"{0:.0f}%\".format(c), \"out_out_city :\",\"{0:.0f}%\".format(d), \"sum_out :\", e)"
   ]
  },
  {
   "cell_type": "markdown",
   "id": "4a092ef0",
   "metadata": {},
   "source": [
    "### Save the modified one for the simulation "
   ]
  },
  {
   "cell_type": "code",
   "execution_count": 47,
   "id": "6ad77f0c",
   "metadata": {},
   "outputs": [],
   "source": [
    "test_all_in.to_csv('/Users/xinyun/Documents/Stage4A/demand/demand_7h_9h_Amsterdam_scenario.csv', sep = ';', index = False)"
   ]
  }
 ],
 "metadata": {
  "kernelspec": {
   "display_name": "Python 3 (ipykernel)",
   "language": "python",
   "name": "python3"
  },
  "language_info": {
   "codemirror_mode": {
    "name": "ipython",
    "version": 3
   },
   "file_extension": ".py",
   "mimetype": "text/x-python",
   "name": "python",
   "nbconvert_exporter": "python",
   "pygments_lexer": "ipython3",
   "version": "3.9.12"
  }
 },
 "nbformat": 4,
 "nbformat_minor": 5
}
