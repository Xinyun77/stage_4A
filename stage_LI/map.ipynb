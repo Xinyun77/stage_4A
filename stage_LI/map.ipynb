{
 "cells": [
  {
   "cell_type": "markdown",
   "id": "90769b01",
   "metadata": {},
   "source": [
    "# Functions allow to extract the map corresponding to a given area (with endpoints of this area)"
   ]
  },
  {
   "cell_type": "code",
   "execution_count": 1,
   "id": "4e7f3e8d",
   "metadata": {},
   "outputs": [],
   "source": [
    "from os import listdir, mkdir\n",
    "from os.path import exists\n",
    "from PIL import Image\n",
    "import cv2\n",
    "import numpy as np\n",
    "from random import uniform\n",
    "from time import sleep\n",
    "from urllib.request import Request, urlopen\n",
    "import math\n",
    "\n",
    "\n",
    "# Similar to https://wiki.openstreetmap.org/wiki/Slippy_map_tilenames#Python .\n",
    "def deg2float(lat_deg, lon_deg, zoom):\n",
    "    lat_rad = math.radians(lat_deg)\n",
    "    n = 2.0 ** zoom\n",
    "    xtile = (lon_deg + 180.0) / 360.0 * n\n",
    "    ytile = (1.0 - math.asinh(math.tan(lat_rad)) / math.pi) / 2.0 * n\n",
    "    return (xtile, ytile)\n",
    "\n",
    "\n",
    "def download_map(zoom, lat1, lon1, lat2, lon2):\n",
    "    print(\"Début de l'extraction de la map ...\")\n",
    "    lon_start, lon_end = min(lon1, lon2), max(lon1, lon2)\n",
    "    lat_start, lat_end = max(lat1, lat2), min(lat1, lat2)\n",
    "\n",
    "    # Top left corner of bounding box.\n",
    "    x1, y1 = deg2float(lat_start, lon_start, zoom)\n",
    "    x1i, y1i = math.floor(x1), math.floor(y1)\n",
    "\n",
    "    # Bottom right corner of bounding box.\n",
    "    x2, y2 = deg2float(lat_end, lon_end, zoom)\n",
    "    x2i, y2i = math.ceil(x2), math.ceil(y2)\n",
    "\n",
    "    x_cnt, y_cnt = abs(x1i - x2i), abs(y1i - y2i)\n",
    "    if x_cnt * y_cnt > 250:\n",
    "        err = \"Too many tiles. Probably too big an area at too high a zoom level.\"\n",
    "        err += \" See https://operations.osmfoundation.org/policies/tiles/ .\"\n",
    "        raise Exception(err)\n",
    "\n",
    "    if not exists(\"maptiles\"):\n",
    "        mkdir(\"maptiles\")\n",
    "\n",
    "    for x in range(x_cnt):\n",
    "        for y in range(y_cnt):\n",
    "            xt, yt = x + x1i, y + y1i\n",
    "            path = \"maptiles/{}_{}_{}.png\".format(zoom, xt, yt)\n",
    "\n",
    "            if not exists(path):\n",
    "                sleep(uniform(0.5, 1.5))\n",
    "                url = \"https://tile.openstreetmap.org/{}/{}/{}.png\".format(zoom, xt, yt)\n",
    "                req = Request(url)\n",
    "                ua = \"Mozilla/5.0 (X11; Ubuntu; Linux x86_64; rv:90.0) Gecko/20100101 Firefox/90.0\"\n",
    "                req.add_header(\"User-Agent\", ua)  # OSM seems to not like Python's default UA.\n",
    "                req.add_header(\"referer\", \"https://www.google.co.in/\")\n",
    "                resp = urlopen(req)\n",
    "                body = resp.read()\n",
    "                with open(path, \"wb\") as f:\n",
    "                    f.write(body)\n",
    "\n",
    "    im = Image.open(\"maptiles/{}_{}_{}.png\".format(zoom, x1i, y1i))\n",
    "    tile_w, tile_h = im.size\n",
    "    total_w = x_cnt * tile_w\n",
    "    total_h = y_cnt * tile_h\n",
    "\n",
    "    new_im = Image.new(\"RGB\", (total_w, total_h))\n",
    "\n",
    "    for x in range(x_cnt):\n",
    "        for y in range(y_cnt):\n",
    "            xt, yt = x + x1i, y + y1i\n",
    "            im = Image.open(\"maptiles/{}_{}_{}.png\".format(zoom, xt, yt))\n",
    "            new_im.paste(im, (x * tile_w, y * tile_h))\n",
    "\n",
    "    cropped_w = round((x2 - x1) * tile_w)\n",
    "    cropped_h = round((y2 - y1) * tile_h)\n",
    "    cropped_im = Image.new(\"RGB\", (cropped_w, cropped_h))\n",
    "    translate_x = round(-(x1 - x1i) * tile_w)\n",
    "    translate_y = round(-(y1 - y1i) * tile_h)\n",
    "    cropped_im.paste(new_im, (translate_x, translate_y))\n",
    "\n",
    "    open_cv_image = np.array(cropped_im)\n",
    "    # Convert RGB to BGR\n",
    "    open_cv_image = open_cv_image[:, :, ::-1].copy()\n",
    "    open_cv_image = cv2.resize(open_cv_image, (open_cv_image.shape[1]*4, open_cv_image.shape[0]*4), interpolation = cv2.INTER_CUBIC)\n",
    "    cv2.imwrite(\"map_user.png\", open_cv_image)\n",
    "    print(\"Map extraite\")\n",
    "\n",
    "# Download a map of  SF Bay Area at zoom level 12. Approx 3000*3000px.\n",
    "\n"
   ]
  },
  {
   "cell_type": "code",
   "execution_count": 13,
   "id": "839d624e",
   "metadata": {},
   "outputs": [
    {
     "name": "stdout",
     "output_type": "stream",
     "text": [
      "Début de l'extraction de la map ...\n",
      "Map extraite\n"
     ]
    }
   ],
   "source": [
    "#download_map(10,52.022752036643354, 4.374775247912083, 52.719564351976736, 5.2603226194780905)"
   ]
  },
  {
   "cell_type": "code",
   "execution_count": 12,
   "id": "018e106a",
   "metadata": {},
   "outputs": [
    {
     "name": "stdout",
     "output_type": "stream",
     "text": [
      "Début de l'extraction de la map ...\n",
      "Map extraite\n"
     ]
    }
   ],
   "source": [
    "#download_map(10, 52.29306837473483, 4.77753933657067, 52.42906894615695, 4.988941261476027)"
   ]
  },
  {
   "cell_type": "code",
   "execution_count": 19,
   "id": "19118d35",
   "metadata": {},
   "outputs": [
    {
     "name": "stdout",
     "output_type": "stream",
     "text": [
      "Début de l'extraction de la map ...\n",
      "Map extraite\n"
     ]
    }
   ],
   "source": [
    "#download_map(14, 52.32518282260862, 4.834477934348526, 52.42619306976802, 4.980217278228295)"
   ]
  },
  {
   "cell_type": "code",
   "execution_count": 7,
   "id": "82f53f54",
   "metadata": {},
   "outputs": [
    {
     "name": "stdout",
     "output_type": "stream",
     "text": [
      "Début de l'extraction de la map ...\n",
      "Map extraite\n"
     ]
    }
   ],
   "source": [
    "#download_map(8, 50.02565215919019, 3.5406442936618965, 53.22736127945947, 7.100079938077172)"
   ]
  },
  {
   "cell_type": "code",
   "execution_count": null,
   "id": "99d96cbb",
   "metadata": {},
   "outputs": [],
   "source": []
  }
 ],
 "metadata": {
  "kernelspec": {
   "display_name": "Python 3 (ipykernel)",
   "language": "python",
   "name": "python3"
  },
  "language_info": {
   "codemirror_mode": {
    "name": "ipython",
    "version": 3
   },
   "file_extension": ".py",
   "mimetype": "text/x-python",
   "name": "python",
   "nbconvert_exporter": "python",
   "pygments_lexer": "ipython3",
   "version": "3.9.12"
  }
 },
 "nbformat": 4,
 "nbformat_minor": 5
}
