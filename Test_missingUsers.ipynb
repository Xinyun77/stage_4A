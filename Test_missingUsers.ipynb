{
 "cells": [
  {
   "cell_type": "code",
   "execution_count": 39,
   "id": "655b7525",
   "metadata": {},
   "outputs": [],
   "source": [
    "import pandas as pd\n",
    "import numpy as np\n",
    "import os\n",
    "import itertools"
   ]
  },
  {
   "cell_type": "code",
   "execution_count": 135,
   "id": "ad6e26a7",
   "metadata": {},
   "outputs": [],
   "source": [
    "input_path1 = os.getcwd() + \"/OUTPUTS_test/path.csv\"\n",
    "input_path2 = os.getcwd() + \"/INPUTS/test_8h_10L.csv\"\n",
    "Output = pd.read_csv(input_path1, delimiter = ';')\n",
    "Input = pd.read_csv(input_path2, delimiter = ';')\n",
    "listID_in = Input['ID'].tolist()\n",
    "listID_out = Output['ID'].tolist()"
   ]
  },
  {
   "cell_type": "code",
   "execution_count": 136,
   "id": "feaa6070",
   "metadata": {},
   "outputs": [],
   "source": [
    "def diff(l1, l2):   # return a list of lost users\n",
    "    difference = list(set(l1).symmetric_difference(set(l2)))\n",
    "    return difference"
   ]
  },
  {
   "cell_type": "code",
   "execution_count": 137,
   "id": "b1768ae8",
   "metadata": {},
   "outputs": [
    {
     "data": {
      "text/html": [
       "<div>\n",
       "<style scoped>\n",
       "    .dataframe tbody tr th:only-of-type {\n",
       "        vertical-align: middle;\n",
       "    }\n",
       "\n",
       "    .dataframe tbody tr th {\n",
       "        vertical-align: top;\n",
       "    }\n",
       "\n",
       "    .dataframe thead th {\n",
       "        text-align: right;\n",
       "    }\n",
       "</style>\n",
       "<table border=\"1\" class=\"dataframe\">\n",
       "  <thead>\n",
       "    <tr style=\"text-align: right;\">\n",
       "      <th></th>\n",
       "      <th>ID</th>\n",
       "      <th>DEPARTURE</th>\n",
       "      <th>ORIGIN</th>\n",
       "      <th>DESTINATION</th>\n",
       "    </tr>\n",
       "  </thead>\n",
       "  <tbody>\n",
       "    <tr>\n",
       "      <th>0</th>\n",
       "      <td>1103972</td>\n",
       "      <td>08:00:00</td>\n",
       "      <td>631535.1422327636 5803436.995133258</td>\n",
       "      <td>646022.6577849017 5787468.580633566</td>\n",
       "    </tr>\n",
       "    <tr>\n",
       "      <th>1</th>\n",
       "      <td>1115149</td>\n",
       "      <td>08:00:00</td>\n",
       "      <td>634129.4929278796 5798053.934760166</td>\n",
       "      <td>630781.8925280606 5800933.162112237</td>\n",
       "    </tr>\n",
       "    <tr>\n",
       "      <th>2</th>\n",
       "      <td>1035042</td>\n",
       "      <td>08:00:00</td>\n",
       "      <td>627636.2869598038 5804935.124059598</td>\n",
       "      <td>634339.1089068025 5793673.53040184</td>\n",
       "    </tr>\n",
       "    <tr>\n",
       "      <th>3</th>\n",
       "      <td>1482419</td>\n",
       "      <td>08:00:00</td>\n",
       "      <td>603903.567211128 5753372.920637062</td>\n",
       "      <td>585798.8212832647 5748437.79926028</td>\n",
       "    </tr>\n",
       "    <tr>\n",
       "      <th>4</th>\n",
       "      <td>1107884</td>\n",
       "      <td>08:00:00</td>\n",
       "      <td>633830.4181053555 5797059.157535477</td>\n",
       "      <td>623045.5410589064 5801054.631141664</td>\n",
       "    </tr>\n",
       "    <tr>\n",
       "      <th>5</th>\n",
       "      <td>1104882</td>\n",
       "      <td>08:00:00</td>\n",
       "      <td>631656.3622370602 5803194.158888644</td>\n",
       "      <td>631889.0524407397 5802822.9000578</td>\n",
       "    </tr>\n",
       "    <tr>\n",
       "      <th>6</th>\n",
       "      <td>1082159</td>\n",
       "      <td>08:00:00</td>\n",
       "      <td>626840.4845576547 5801443.6167761525</td>\n",
       "      <td>605262.5685096607 5755458.7069760775</td>\n",
       "    </tr>\n",
       "    <tr>\n",
       "      <th>7</th>\n",
       "      <td>1068917</td>\n",
       "      <td>08:00:00</td>\n",
       "      <td>628467.4701878248 5803027.810372679</td>\n",
       "      <td>628839.0794578048 5802805.310619754</td>\n",
       "    </tr>\n",
       "    <tr>\n",
       "      <th>8</th>\n",
       "      <td>1004465</td>\n",
       "      <td>08:00:00</td>\n",
       "      <td>633218.1255840912 5806592.060767567</td>\n",
       "      <td>630009.9025622855 5795731.260661593</td>\n",
       "    </tr>\n",
       "    <tr>\n",
       "      <th>9</th>\n",
       "      <td>1118776</td>\n",
       "      <td>08:00:00</td>\n",
       "      <td>635457.5195071478 5795709.989272596</td>\n",
       "      <td>634362.3799603812 5795839.954377281</td>\n",
       "    </tr>\n",
       "  </tbody>\n",
       "</table>\n",
       "</div>"
      ],
      "text/plain": [
       "        ID DEPARTURE                                ORIGIN  \\\n",
       "0  1103972  08:00:00   631535.1422327636 5803436.995133258   \n",
       "1  1115149  08:00:00   634129.4929278796 5798053.934760166   \n",
       "2  1035042  08:00:00   627636.2869598038 5804935.124059598   \n",
       "3  1482419  08:00:00    603903.567211128 5753372.920637062   \n",
       "4  1107884  08:00:00   633830.4181053555 5797059.157535477   \n",
       "5  1104882  08:00:00   631656.3622370602 5803194.158888644   \n",
       "6  1082159  08:00:00  626840.4845576547 5801443.6167761525   \n",
       "7  1068917  08:00:00   628467.4701878248 5803027.810372679   \n",
       "8  1004465  08:00:00   633218.1255840912 5806592.060767567   \n",
       "9  1118776  08:00:00   635457.5195071478 5795709.989272596   \n",
       "\n",
       "                            DESTINATION  \n",
       "0   646022.6577849017 5787468.580633566  \n",
       "1   630781.8925280606 5800933.162112237  \n",
       "2    634339.1089068025 5793673.53040184  \n",
       "3    585798.8212832647 5748437.79926028  \n",
       "4   623045.5410589064 5801054.631141664  \n",
       "5     631889.0524407397 5802822.9000578  \n",
       "6  605262.5685096607 5755458.7069760775  \n",
       "7   628839.0794578048 5802805.310619754  \n",
       "8   630009.9025622855 5795731.260661593  \n",
       "9   634362.3799603812 5795839.954377281  "
      ]
     },
     "execution_count": 137,
     "metadata": {},
     "output_type": "execute_result"
    }
   ],
   "source": [
    "Input"
   ]
  },
  {
   "cell_type": "code",
   "execution_count": 138,
   "id": "74cc624c",
   "metadata": {},
   "outputs": [
    {
     "data": {
      "text/html": [
       "<div>\n",
       "<style scoped>\n",
       "    .dataframe tbody tr th:only-of-type {\n",
       "        vertical-align: middle;\n",
       "    }\n",
       "\n",
       "    .dataframe tbody tr th {\n",
       "        vertical-align: top;\n",
       "    }\n",
       "\n",
       "    .dataframe thead th {\n",
       "        text-align: right;\n",
       "    }\n",
       "</style>\n",
       "<table border=\"1\" class=\"dataframe\">\n",
       "  <thead>\n",
       "    <tr style=\"text-align: right;\">\n",
       "      <th></th>\n",
       "      <th>ORIGIN</th>\n",
       "      <th>DESTINATION</th>\n",
       "    </tr>\n",
       "  </thead>\n",
       "  <tbody>\n",
       "    <tr>\n",
       "      <th>0</th>\n",
       "      <td>631535.1422327636 5803436.995133258</td>\n",
       "      <td>646022.6577849017 5787468.580633566</td>\n",
       "    </tr>\n",
       "    <tr>\n",
       "      <th>6</th>\n",
       "      <td>626840.4845576547 5801443.6167761525</td>\n",
       "      <td>605262.5685096607 5755458.7069760775</td>\n",
       "    </tr>\n",
       "    <tr>\n",
       "      <th>3</th>\n",
       "      <td>603903.567211128 5753372.920637062</td>\n",
       "      <td>585798.8212832647 5748437.79926028</td>\n",
       "    </tr>\n",
       "  </tbody>\n",
       "</table>\n",
       "</div>"
      ],
      "text/plain": [
       "                                 ORIGIN                           DESTINATION\n",
       "0   631535.1422327636 5803436.995133258   646022.6577849017 5787468.580633566\n",
       "6  626840.4845576547 5801443.6167761525  605262.5685096607 5755458.7069760775\n",
       "3    603903.567211128 5753372.920637062    585798.8212832647 5748437.79926028"
      ]
     },
     "execution_count": 138,
     "metadata": {},
     "output_type": "execute_result"
    }
   ],
   "source": [
    "Input.loc[indexUser, ['ORIGIN', 'DESTINATION']]"
   ]
  },
  {
   "cell_type": "code",
   "execution_count": 139,
   "id": "c7f5ff94",
   "metadata": {},
   "outputs": [],
   "source": [
    "def missingData(inputDataframe, missingList, listID_in, listID_out):\n",
    "    missing = diff(listID_in, listID_out)\n",
    "    indexUser = [Input.index[Input['ID'] == i].tolist() for i in missing]  # index of missing user\n",
    "    indexUser = list(itertools.chain.from_iterable(indexUser))\n",
    "    display(Input.iloc[indexUser])"
   ]
  },
  {
   "cell_type": "code",
   "execution_count": 140,
   "id": "87974924",
   "metadata": {},
   "outputs": [
    {
     "data": {
      "text/html": [
       "<div>\n",
       "<style scoped>\n",
       "    .dataframe tbody tr th:only-of-type {\n",
       "        vertical-align: middle;\n",
       "    }\n",
       "\n",
       "    .dataframe tbody tr th {\n",
       "        vertical-align: top;\n",
       "    }\n",
       "\n",
       "    .dataframe thead th {\n",
       "        text-align: right;\n",
       "    }\n",
       "</style>\n",
       "<table border=\"1\" class=\"dataframe\">\n",
       "  <thead>\n",
       "    <tr style=\"text-align: right;\">\n",
       "      <th></th>\n",
       "      <th>ID</th>\n",
       "      <th>DEPARTURE</th>\n",
       "      <th>ORIGIN</th>\n",
       "      <th>DESTINATION</th>\n",
       "    </tr>\n",
       "  </thead>\n",
       "  <tbody>\n",
       "    <tr>\n",
       "      <th>0</th>\n",
       "      <td>1103972</td>\n",
       "      <td>08:00:00</td>\n",
       "      <td>631535.1422327636 5803436.995133258</td>\n",
       "      <td>646022.6577849017 5787468.580633566</td>\n",
       "    </tr>\n",
       "    <tr>\n",
       "      <th>6</th>\n",
       "      <td>1082159</td>\n",
       "      <td>08:00:00</td>\n",
       "      <td>626840.4845576547 5801443.6167761525</td>\n",
       "      <td>605262.5685096607 5755458.7069760775</td>\n",
       "    </tr>\n",
       "    <tr>\n",
       "      <th>3</th>\n",
       "      <td>1482419</td>\n",
       "      <td>08:00:00</td>\n",
       "      <td>603903.567211128 5753372.920637062</td>\n",
       "      <td>585798.8212832647 5748437.79926028</td>\n",
       "    </tr>\n",
       "  </tbody>\n",
       "</table>\n",
       "</div>"
      ],
      "text/plain": [
       "        ID DEPARTURE                                ORIGIN  \\\n",
       "0  1103972  08:00:00   631535.1422327636 5803436.995133258   \n",
       "6  1082159  08:00:00  626840.4845576547 5801443.6167761525   \n",
       "3  1482419  08:00:00    603903.567211128 5753372.920637062   \n",
       "\n",
       "                            DESTINATION  \n",
       "0   646022.6577849017 5787468.580633566  \n",
       "6  605262.5685096607 5755458.7069760775  \n",
       "3    585798.8212832647 5748437.79926028  "
      ]
     },
     "metadata": {},
     "output_type": "display_data"
    }
   ],
   "source": [
    "missingData(Input, missing, listID_in, listID_out)"
   ]
  },
  {
   "cell_type": "code",
   "execution_count": 141,
   "id": "3c2b8dc4",
   "metadata": {},
   "outputs": [],
   "source": [
    "def bounding(df):\n",
    "    O = df.ORIGIN.tolist()  \n",
    "    D = df.DESTINATION.tolist()\n",
    "    l = O + D  # Concatenate 2 2D lists\n",
    "    coord = np.array([x.split() for x in l])\n",
    "    Xmin = min(float(x[0]) for x in coord)\n",
    "    Ymin = min(float(x[1]) for x in coord)\n",
    "    Xmax = max(float(x[0]) for x in coord)\n",
    "    Ymax = max(float(x[1]) for x in coord)\n",
    "    return Xmin, Xmax, Ymin, Ymax"
   ]
  },
  {
   "cell_type": "code",
   "execution_count": 142,
   "id": "f04fdebd",
   "metadata": {},
   "outputs": [
    {
     "name": "stdout",
     "output_type": "stream",
     "text": [
      "Xmin : 585798.8212832647 Ymin : 5748437.79926028 Xmax : 646022.6577849017 Ymax : 5806592.060767567\n"
     ]
    }
   ],
   "source": [
    "x1,x2,y1,y2 = bounding(Input)\n",
    "print('Xmin :', Xmin, 'Ymin :', Ymin, 'Xmax :', Xmax, 'Ymax :', Ymax)"
   ]
  },
  {
   "cell_type": "code",
   "execution_count": 143,
   "id": "5ce138ab",
   "metadata": {},
   "outputs": [
    {
     "name": "stdout",
     "output_type": "stream",
     "text": [
      "Xmin : 585798.8212832647 Ymin : 5748437.79926028 Xmax : 646022.6577849017 Ymax : 5806592.060767567\n"
     ]
    }
   ],
   "source": [
    "O = Input.ORIGIN.tolist()  \n",
    "D = Input.DESTINATION.tolist()\n",
    "l = O + D  # Concatenate 2 2D lists\n",
    "coord = np.array([x.split() for x in l])\n",
    "Xmin = min(float(x[0]) for x in coord)\n",
    "Ymin = min(float(x[1]) for x in coord)\n",
    "Xmax = max(float(x[0]) for x in coord)\n",
    "Ymax = max(float(x[1]) for x in coord)\n",
    "print('Xmin :', Xmin, 'Ymin :', Ymin, 'Xmax :', Xmax, 'Ymax :', Ymax)"
   ]
  },
  {
   "cell_type": "code",
   "execution_count": 144,
   "id": "09887d62",
   "metadata": {},
   "outputs": [
    {
     "data": {
      "text/plain": [
       "60223.83650163701"
      ]
     },
     "execution_count": 144,
     "metadata": {},
     "output_type": "execute_result"
    }
   ],
   "source": [
    "Xmax - Xmin"
   ]
  },
  {
   "cell_type": "code",
   "execution_count": 145,
   "id": "46c657ee",
   "metadata": {},
   "outputs": [
    {
     "data": {
      "text/plain": [
       "58154.26150728669"
      ]
     },
     "execution_count": 145,
     "metadata": {},
     "output_type": "execute_result"
    }
   ],
   "source": [
    "Ymax - Ymin"
   ]
  },
  {
   "cell_type": "markdown",
   "id": "e1ba17a1",
   "metadata": {},
   "source": [
    "## Indicateurs pour les véhicules"
   ]
  },
  {
   "cell_type": "code",
   "execution_count": 148,
   "id": "50e30bd5",
   "metadata": {},
   "outputs": [],
   "source": [
    "input_vec = os.getcwd() + \"/OUTPUTS_test/veh.csv\""
   ]
  },
  {
   "cell_type": "code",
   "execution_count": 149,
   "id": "4c43890b",
   "metadata": {},
   "outputs": [],
   "source": [
    "vec = pd.read_csv(input_vec, delimiter = \";\")"
   ]
  },
  {
   "cell_type": "code",
   "execution_count": 150,
   "id": "ed9ceb85",
   "metadata": {},
   "outputs": [
    {
     "data": {
      "text/html": [
       "<div>\n",
       "<style scoped>\n",
       "    .dataframe tbody tr th:only-of-type {\n",
       "        vertical-align: middle;\n",
       "    }\n",
       "\n",
       "    .dataframe tbody tr th {\n",
       "        vertical-align: top;\n",
       "    }\n",
       "\n",
       "    .dataframe thead th {\n",
       "        text-align: right;\n",
       "    }\n",
       "</style>\n",
       "<table border=\"1\" class=\"dataframe\">\n",
       "  <thead>\n",
       "    <tr style=\"text-align: right;\">\n",
       "      <th></th>\n",
       "      <th>TIME</th>\n",
       "      <th>ID</th>\n",
       "      <th>TYPE</th>\n",
       "      <th>LINK</th>\n",
       "      <th>POSITION</th>\n",
       "      <th>SPEED</th>\n",
       "      <th>STATE</th>\n",
       "      <th>DISTANCE</th>\n",
       "      <th>PASSENGERS</th>\n",
       "    </tr>\n",
       "  </thead>\n",
       "  <tbody>\n",
       "    <tr>\n",
       "      <th>0</th>\n",
       "      <td>08:00:00.00</td>\n",
       "      <td>2</td>\n",
       "      <td>Car</td>\n",
       "      <td>m46473661 m46476411</td>\n",
       "      <td>NaN</td>\n",
       "      <td>13.800</td>\n",
       "      <td>SERVING</td>\n",
       "      <td>0.000</td>\n",
       "      <td>1004465.0</td>\n",
       "    </tr>\n",
       "    <tr>\n",
       "      <th>1</th>\n",
       "      <td>08:00:00.00</td>\n",
       "      <td>1</td>\n",
       "      <td>Car</td>\n",
       "      <td>NaN</td>\n",
       "      <td>NaN</td>\n",
       "      <td>13.800</td>\n",
       "      <td>SERVING</td>\n",
       "      <td>0.000</td>\n",
       "      <td>1104882.0</td>\n",
       "    </tr>\n",
       "    <tr>\n",
       "      <th>2</th>\n",
       "      <td>08:00:00.00</td>\n",
       "      <td>0</td>\n",
       "      <td>Car</td>\n",
       "      <td>m46431799 m46429728</td>\n",
       "      <td>NaN</td>\n",
       "      <td>13.800</td>\n",
       "      <td>SERVING</td>\n",
       "      <td>0.000</td>\n",
       "      <td>1035042.0</td>\n",
       "    </tr>\n",
       "    <tr>\n",
       "      <th>3</th>\n",
       "      <td>08:01:00.00</td>\n",
       "      <td>0</td>\n",
       "      <td>Car</td>\n",
       "      <td>m46413078 m46410770</td>\n",
       "      <td>628299.190 5804632.996</td>\n",
       "      <td>11.499</td>\n",
       "      <td>SERVING</td>\n",
       "      <td>689.960</td>\n",
       "      <td>1035042.0</td>\n",
       "    </tr>\n",
       "    <tr>\n",
       "      <th>4</th>\n",
       "      <td>08:01:00.00</td>\n",
       "      <td>2</td>\n",
       "      <td>Car</td>\n",
       "      <td>m46470667 m4620947768</td>\n",
       "      <td>633309.387 5806213.117</td>\n",
       "      <td>11.499</td>\n",
       "      <td>SERVING</td>\n",
       "      <td>689.960</td>\n",
       "      <td>1004465.0</td>\n",
       "    </tr>\n",
       "    <tr>\n",
       "      <th>...</th>\n",
       "      <td>...</td>\n",
       "      <td>...</td>\n",
       "      <td>...</td>\n",
       "      <td>...</td>\n",
       "      <td>...</td>\n",
       "      <td>...</td>\n",
       "      <td>...</td>\n",
       "      <td>...</td>\n",
       "      <td>...</td>\n",
       "    </tr>\n",
       "    <tr>\n",
       "      <th>86</th>\n",
       "      <td>08:23:00.00</td>\n",
       "      <td>0</td>\n",
       "      <td>Car</td>\n",
       "      <td>m46009635 m573937934</td>\n",
       "      <td>634189.109 5793988.811</td>\n",
       "      <td>11.499</td>\n",
       "      <td>STOP</td>\n",
       "      <td>15755.695</td>\n",
       "      <td>NaN</td>\n",
       "    </tr>\n",
       "    <tr>\n",
       "      <th>87</th>\n",
       "      <td>08:23:00.00</td>\n",
       "      <td>2</td>\n",
       "      <td>Car</td>\n",
       "      <td>m46084802 m46082308</td>\n",
       "      <td>630348.707 5796114.449</td>\n",
       "      <td>11.499</td>\n",
       "      <td>STOP</td>\n",
       "      <td>15305.264</td>\n",
       "      <td>NaN</td>\n",
       "    </tr>\n",
       "    <tr>\n",
       "      <th>88</th>\n",
       "      <td>08:23:00.00</td>\n",
       "      <td>5</td>\n",
       "      <td>Car</td>\n",
       "      <td>m46259317 m1252468320</td>\n",
       "      <td>624490.961 5800716.001</td>\n",
       "      <td>11.499</td>\n",
       "      <td>SERVING</td>\n",
       "      <td>14488.480</td>\n",
       "      <td>1107884.0</td>\n",
       "    </tr>\n",
       "    <tr>\n",
       "      <th>89</th>\n",
       "      <td>08:24:00.00</td>\n",
       "      <td>5</td>\n",
       "      <td>Car</td>\n",
       "      <td>m46256638 m297316615</td>\n",
       "      <td>623807.800 5800619.205</td>\n",
       "      <td>11.500</td>\n",
       "      <td>SERVING</td>\n",
       "      <td>15178.460</td>\n",
       "      <td>1107884.0</td>\n",
       "    </tr>\n",
       "    <tr>\n",
       "      <th>90</th>\n",
       "      <td>08:25:00.00</td>\n",
       "      <td>5</td>\n",
       "      <td>Car</td>\n",
       "      <td>m1076987828 m1350346414</td>\n",
       "      <td>623476.606 5800583.678</td>\n",
       "      <td>11.500</td>\n",
       "      <td>STOP</td>\n",
       "      <td>15512.760</td>\n",
       "      <td>NaN</td>\n",
       "    </tr>\n",
       "  </tbody>\n",
       "</table>\n",
       "<p>91 rows × 9 columns</p>\n",
       "</div>"
      ],
      "text/plain": [
       "           TIME  ID TYPE                     LINK                POSITION  \\\n",
       "0   08:00:00.00   2  Car      m46473661 m46476411                     NaN   \n",
       "1   08:00:00.00   1  Car                      NaN                     NaN   \n",
       "2   08:00:00.00   0  Car      m46431799 m46429728                     NaN   \n",
       "3   08:01:00.00   0  Car      m46413078 m46410770  628299.190 5804632.996   \n",
       "4   08:01:00.00   2  Car    m46470667 m4620947768  633309.387 5806213.117   \n",
       "..          ...  ..  ...                      ...                     ...   \n",
       "86  08:23:00.00   0  Car     m46009635 m573937934  634189.109 5793988.811   \n",
       "87  08:23:00.00   2  Car      m46084802 m46082308  630348.707 5796114.449   \n",
       "88  08:23:00.00   5  Car    m46259317 m1252468320  624490.961 5800716.001   \n",
       "89  08:24:00.00   5  Car     m46256638 m297316615  623807.800 5800619.205   \n",
       "90  08:25:00.00   5  Car  m1076987828 m1350346414  623476.606 5800583.678   \n",
       "\n",
       "     SPEED    STATE   DISTANCE  PASSENGERS  \n",
       "0   13.800  SERVING      0.000   1004465.0  \n",
       "1   13.800  SERVING      0.000   1104882.0  \n",
       "2   13.800  SERVING      0.000   1035042.0  \n",
       "3   11.499  SERVING    689.960   1035042.0  \n",
       "4   11.499  SERVING    689.960   1004465.0  \n",
       "..     ...      ...        ...         ...  \n",
       "86  11.499     STOP  15755.695         NaN  \n",
       "87  11.499     STOP  15305.264         NaN  \n",
       "88  11.499  SERVING  14488.480   1107884.0  \n",
       "89  11.500  SERVING  15178.460   1107884.0  \n",
       "90  11.500     STOP  15512.760         NaN  \n",
       "\n",
       "[91 rows x 9 columns]"
      ]
     },
     "execution_count": 150,
     "metadata": {},
     "output_type": "execute_result"
    }
   ],
   "source": [
    "vec"
   ]
  },
  {
   "cell_type": "code",
   "execution_count": 159,
   "id": "f219facd",
   "metadata": {},
   "outputs": [
    {
     "name": "stderr",
     "output_type": "stream",
     "text": [
      "/var/folders/rn/l0_f8pz15050p66fqtz1164h0000gp/T/ipykernel_10451/1414701431.py:1: FutureWarning: Indexing with multiple keys (implicitly converted to a tuple of keys) will be deprecated, use a list instead.\n",
      "  vec.groupby(by = 'ID')['DISTANCE','PASSENGERS'].agg(['sum','min','max'])\n"
     ]
    },
    {
     "data": {
      "text/html": [
       "<div>\n",
       "<style scoped>\n",
       "    .dataframe tbody tr th:only-of-type {\n",
       "        vertical-align: middle;\n",
       "    }\n",
       "\n",
       "    .dataframe tbody tr th {\n",
       "        vertical-align: top;\n",
       "    }\n",
       "\n",
       "    .dataframe thead tr th {\n",
       "        text-align: left;\n",
       "    }\n",
       "\n",
       "    .dataframe thead tr:last-of-type th {\n",
       "        text-align: right;\n",
       "    }\n",
       "</style>\n",
       "<table border=\"1\" class=\"dataframe\">\n",
       "  <thead>\n",
       "    <tr>\n",
       "      <th></th>\n",
       "      <th colspan=\"3\" halign=\"left\">DISTANCE</th>\n",
       "      <th colspan=\"3\" halign=\"left\">PASSENGERS</th>\n",
       "    </tr>\n",
       "    <tr>\n",
       "      <th></th>\n",
       "      <th>sum</th>\n",
       "      <th>min</th>\n",
       "      <th>max</th>\n",
       "      <th>sum</th>\n",
       "      <th>min</th>\n",
       "      <th>max</th>\n",
       "    </tr>\n",
       "    <tr>\n",
       "      <th>ID</th>\n",
       "      <th></th>\n",
       "      <th></th>\n",
       "      <th></th>\n",
       "      <th></th>\n",
       "      <th></th>\n",
       "      <th></th>\n",
       "    </tr>\n",
       "  </thead>\n",
       "  <tbody>\n",
       "    <tr>\n",
       "      <th>0</th>\n",
       "      <td>190306.215</td>\n",
       "      <td>0.0</td>\n",
       "      <td>15755.695</td>\n",
       "      <td>23805966.0</td>\n",
       "      <td>1035042.0</td>\n",
       "      <td>1035042.0</td>\n",
       "    </tr>\n",
       "    <tr>\n",
       "      <th>1</th>\n",
       "      <td>0.000</td>\n",
       "      <td>0.0</td>\n",
       "      <td>0.000</td>\n",
       "      <td>1104882.0</td>\n",
       "      <td>1104882.0</td>\n",
       "      <td>1104882.0</td>\n",
       "    </tr>\n",
       "    <tr>\n",
       "      <th>2</th>\n",
       "      <td>189855.784</td>\n",
       "      <td>0.0</td>\n",
       "      <td>15305.264</td>\n",
       "      <td>23102695.0</td>\n",
       "      <td>1004465.0</td>\n",
       "      <td>1004465.0</td>\n",
       "    </tr>\n",
       "    <tr>\n",
       "      <th>3</th>\n",
       "      <td>37528.647</td>\n",
       "      <td>0.0</td>\n",
       "      <td>6482.727</td>\n",
       "      <td>11151490.0</td>\n",
       "      <td>1115149.0</td>\n",
       "      <td>1115149.0</td>\n",
       "    </tr>\n",
       "    <tr>\n",
       "      <th>4</th>\n",
       "      <td>3719.234</td>\n",
       "      <td>0.0</td>\n",
       "      <td>1649.494</td>\n",
       "      <td>3356328.0</td>\n",
       "      <td>1118776.0</td>\n",
       "      <td>1118776.0</td>\n",
       "    </tr>\n",
       "    <tr>\n",
       "      <th>5</th>\n",
       "      <td>190062.780</td>\n",
       "      <td>0.0</td>\n",
       "      <td>15512.760</td>\n",
       "      <td>25481332.0</td>\n",
       "      <td>1107884.0</td>\n",
       "      <td>1107884.0</td>\n",
       "    </tr>\n",
       "    <tr>\n",
       "      <th>6</th>\n",
       "      <td>1788.960</td>\n",
       "      <td>0.0</td>\n",
       "      <td>1099.060</td>\n",
       "      <td>2137834.0</td>\n",
       "      <td>1068917.0</td>\n",
       "      <td>1068917.0</td>\n",
       "    </tr>\n",
       "  </tbody>\n",
       "</table>\n",
       "</div>"
      ],
      "text/plain": [
       "      DISTANCE                  PASSENGERS                      \n",
       "           sum  min        max         sum        min        max\n",
       "ID                                                              \n",
       "0   190306.215  0.0  15755.695  23805966.0  1035042.0  1035042.0\n",
       "1        0.000  0.0      0.000   1104882.0  1104882.0  1104882.0\n",
       "2   189855.784  0.0  15305.264  23102695.0  1004465.0  1004465.0\n",
       "3    37528.647  0.0   6482.727  11151490.0  1115149.0  1115149.0\n",
       "4     3719.234  0.0   1649.494   3356328.0  1118776.0  1118776.0\n",
       "5   190062.780  0.0  15512.760  25481332.0  1107884.0  1107884.0\n",
       "6     1788.960  0.0   1099.060   2137834.0  1068917.0  1068917.0"
      ]
     },
     "execution_count": 159,
     "metadata": {},
     "output_type": "execute_result"
    }
   ],
   "source": [
    "vec.groupby(by = 'ID')['DISTANCE','PASSENGERS'].agg(['sum','min','max'])"
   ]
  },
  {
   "cell_type": "code",
   "execution_count": null,
   "id": "c3f53452",
   "metadata": {},
   "outputs": [],
   "source": [
    "veh"
   ]
  },
  {
   "cell_type": "code",
   "execution_count": null,
   "id": "e11a371f",
   "metadata": {},
   "outputs": [],
   "source": []
  },
  {
   "cell_type": "code",
   "execution_count": 158,
   "id": "07ac9f77",
   "metadata": {},
   "outputs": [
    {
     "name": "stdout",
     "output_type": "stream",
     "text": [
      "ID\n",
      "0    11.594708\n",
      "1    13.800000\n",
      "2    11.594708\n",
      "3    11.707818\n",
      "4    12.073750\n",
      "5    11.594792\n",
      "6    12.265333\n",
      "Name: SPEED, dtype: float64\n"
     ]
    }
   ],
   "source": [
    "speed = vec.groupby(by = 'ID')['SPEED'].mean()\n",
    "print(speed)"
   ]
  },
  {
   "cell_type": "code",
   "execution_count": null,
   "id": "ed0c1a32",
   "metadata": {},
   "outputs": [],
   "source": [
    "# total travel time -> seconde"
   ]
  },
  {
   "cell_type": "code",
   "execution_count": null,
   "id": "fe9f8ed2",
   "metadata": {},
   "outputs": [],
   "source": []
  },
  {
   "cell_type": "markdown",
   "id": "e5452c6e",
   "metadata": {},
   "source": [
    "## "
   ]
  },
  {
   "cell_type": "markdown",
   "id": "a308873e",
   "metadata": {},
   "source": [
    "## Modifie the departure and destination point"
   ]
  },
  {
   "cell_type": "code",
   "execution_count": null,
   "id": "a939a6cc",
   "metadata": {},
   "outputs": [],
   "source": []
  }
 ],
 "metadata": {
  "kernelspec": {
   "display_name": "Python 3 (ipykernel)",
   "language": "python",
   "name": "python3"
  },
  "language_info": {
   "codemirror_mode": {
    "name": "ipython",
    "version": 3
   },
   "file_extension": ".py",
   "mimetype": "text/x-python",
   "name": "python",
   "nbconvert_exporter": "python",
   "pygments_lexer": "ipython3",
   "version": "3.9.7"
  }
 },
 "nbformat": 4,
 "nbformat_minor": 5
}
